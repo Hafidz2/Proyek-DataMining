{
  "cells": [
    {
      "cell_type": "markdown",
      "metadata": {
        "id": "GABMry0GuoEi"
      },
      "source": [
        "# UAS Data Mining"
      ]
    },
    {
      "cell_type": "markdown",
      "metadata": {
        "id": "OVjKeNFSuoEs"
      },
      "source": [
        "# Bussines Understanding"
      ]
    },
    {
      "cell_type": "markdown",
      "source": [
        "Permasalahan:\n",
        "- Khaled adalah seorang manager marketing di sebuah perusahaan online terbesar di Indonesia.\n",
        "- Khaled memulai pemasaran produk e-Reader versi 2 pada situs-situs web perusahan mereka yang besar.\n",
        "- Khaled ingin menganalisis lebih lanjut dengan menggunakan pendekatan data mining tentang\n",
        "apa yang akan membuat beberapa orang termotivasi untuk membeli sebuah produk e-reader\n",
        "segera, selanjutnya, atau membelinya nanti.\n",
        "- Dengan menggunakan teknik data mining, khaled percaya dia dapat memprediksi kapan pelanggan akan siap membeli e-Reader\n",
        "versi terbaru dan ini akan membantu dirinya untuk memetakan target pemasaran kepada\n",
        "orang-orang yang siap merespon iklan yang diberikan.\n",
        "- Khaled meminta divisi Riset dan Teknologi untuk memberikan data terkait dengan aktivitas pelanggan pada situs online\n",
        "mereka.\n",
        "\n",
        "Tujuan:\n",
        "- Memprediksi kapan pelanggan akan siap membeli e-Reader versi terbaru."
      ],
      "metadata": {
        "id": "OcdQIHDoXd8Y"
      }
    },
    {
      "cell_type": "markdown",
      "metadata": {
        "id": "ocNq3sKyuoEt"
      },
      "source": [
        "# Data Understanding"
      ]
    },
    {
      "cell_type": "code",
      "source": [
        "from google.colab import files\n",
        "train_upload = files.upload()\n",
        "test_upload = files.upload()"
      ],
      "metadata": {
        "colab": {
          "resources": {
            "http://localhost:8080/nbextensions/google.colab/files.js": {
              "data": "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",
              "ok": true,
              "headers": [
                [
                  "content-type",
                  "application/javascript"
                ]
              ],
              "status": 200,
              "status_text": ""
            }
          },
          "base_uri": "https://localhost:8080/",
          "height": 132
        },
        "id": "_qgc0AzJCEqI",
        "outputId": "6a52f9af-5f73-4381-87c5-e19c18906936"
      },
      "execution_count": 6,
      "outputs": [
        {
          "output_type": "display_data",
          "data": {
            "text/plain": [
              "<IPython.core.display.HTML object>"
            ],
            "text/html": [
              "\n",
              "     <input type=\"file\" id=\"files-462e0d4b-8576-4bec-9582-e9a813b3aeac\" name=\"files[]\" multiple disabled\n",
              "        style=\"border:none\" />\n",
              "     <output id=\"result-462e0d4b-8576-4bec-9582-e9a813b3aeac\">\n",
              "      Upload widget is only available when the cell has been executed in the\n",
              "      current browser session. Please rerun this cell to enable.\n",
              "      </output>\n",
              "      <script src=\"/nbextensions/google.colab/files.js\"></script> "
            ]
          },
          "metadata": {}
        },
        {
          "output_type": "stream",
          "name": "stdout",
          "text": [
            "Saving eReaderAdoption-Training.csv to eReaderAdoption-Training.csv\n"
          ]
        },
        {
          "output_type": "display_data",
          "data": {
            "text/plain": [
              "<IPython.core.display.HTML object>"
            ],
            "text/html": [
              "\n",
              "     <input type=\"file\" id=\"files-58eed754-be7e-49ba-b7d8-5c0d95e4d362\" name=\"files[]\" multiple disabled\n",
              "        style=\"border:none\" />\n",
              "     <output id=\"result-58eed754-be7e-49ba-b7d8-5c0d95e4d362\">\n",
              "      Upload widget is only available when the cell has been executed in the\n",
              "      current browser session. Please rerun this cell to enable.\n",
              "      </output>\n",
              "      <script src=\"/nbextensions/google.colab/files.js\"></script> "
            ]
          },
          "metadata": {}
        },
        {
          "output_type": "stream",
          "name": "stdout",
          "text": [
            "Saving eReaderAdoption-Scoring.csv to eReaderAdoption-Scoring.csv\n"
          ]
        }
      ]
    },
    {
      "cell_type": "code",
      "source": [
        "# Importing Library\n",
        "\n",
        "import pandas as pd\n",
        "import numpy as np\n",
        "import matplotlib.pyplot as plt\n",
        "import seaborn as sns\n",
        "import pickle\n",
        "\n",
        "from sklearn.metrics import accuracy_score\n",
        "from sklearn.preprocessing import StandardScaler\n",
        "from sklearn.preprocessing import OneHotEncoder\n",
        "from sklearn.pipeline import Pipeline\n",
        "from sklearn.compose import ColumnTransformer\n",
        "from sklearn.tree import DecisionTreeClassifier\n",
        "from sklearn.model_selection import train_test_split, GridSearchCV\n",
        "from sklearn.preprocessing import LabelEncoder\n",
        "from sklearn.linear_model import LogisticRegression\n",
        "from sklearn.svm import SVC"
      ],
      "metadata": {
        "id": "fpp3-96sCWHC"
      },
      "execution_count": 9,
      "outputs": []
    },
    {
      "cell_type": "code",
      "source": [
        "data_train = pd.read_csv('eReaderAdoption-Training.csv')\n",
        "data_test = pd.read_csv('eReaderAdoption-Scoring.csv')"
      ],
      "metadata": {
        "id": "pPxI-TM1B9ra"
      },
      "execution_count": 95,
      "outputs": []
    },
    {
      "cell_type": "code",
      "source": [
        "## Menampilkan 5 data teratas dari data train\n",
        "data_train.head()"
      ],
      "metadata": {
        "colab": {
          "base_uri": "https://localhost:8080/",
          "height": 270
        },
        "id": "xobss3peXm9R",
        "outputId": "5ad17a8d-eb80-475c-fe7b-29d62bfd8aa8"
      },
      "execution_count": 98,
      "outputs": [
        {
          "output_type": "execute_result",
          "data": {
            "text/plain": [
              "   User_ID Gender  Age Marital_Status Website_Activity  \\\n",
              "0     9552      M   61              M           Seldom   \n",
              "1     6757      M   27              M          Regular   \n",
              "2     3599      F   29              M           Seldom   \n",
              "3     6811      M   49              M           Seldom   \n",
              "4     4104      M   29              S           Seldom   \n",
              "\n",
              "  Browsed_Electronics_12Mo Bought_Electronics_12Mo Bought_Digital_Media_18Mo  \\\n",
              "0                      Yes                     Yes                       Yes   \n",
              "1                      Yes                      No                       Yes   \n",
              "2                      Yes                     Yes                       Yes   \n",
              "3                      Yes                     Yes                       Yes   \n",
              "4                      Yes                     Yes                       Yes   \n",
              "\n",
              "  Bought_Digital_Books   Payment_Method eReader_Adoption  \n",
              "0                   No    Bank Transfer    Late Majority  \n",
              "1                   No    Bank Transfer        Innovator  \n",
              "2                  Yes    Bank Transfer    Early Adopter  \n",
              "3                  Yes  Website Account    Early Adopter  \n",
              "4                   No  Website Account    Late Majority  "
            ],
            "text/html": [
              "\n",
              "  <div id=\"df-3442f4f7-87bc-4388-a4a7-c7d325607efe\">\n",
              "    <div class=\"colab-df-container\">\n",
              "      <div>\n",
              "<style scoped>\n",
              "    .dataframe tbody tr th:only-of-type {\n",
              "        vertical-align: middle;\n",
              "    }\n",
              "\n",
              "    .dataframe tbody tr th {\n",
              "        vertical-align: top;\n",
              "    }\n",
              "\n",
              "    .dataframe thead th {\n",
              "        text-align: right;\n",
              "    }\n",
              "</style>\n",
              "<table border=\"1\" class=\"dataframe\">\n",
              "  <thead>\n",
              "    <tr style=\"text-align: right;\">\n",
              "      <th></th>\n",
              "      <th>User_ID</th>\n",
              "      <th>Gender</th>\n",
              "      <th>Age</th>\n",
              "      <th>Marital_Status</th>\n",
              "      <th>Website_Activity</th>\n",
              "      <th>Browsed_Electronics_12Mo</th>\n",
              "      <th>Bought_Electronics_12Mo</th>\n",
              "      <th>Bought_Digital_Media_18Mo</th>\n",
              "      <th>Bought_Digital_Books</th>\n",
              "      <th>Payment_Method</th>\n",
              "      <th>eReader_Adoption</th>\n",
              "    </tr>\n",
              "  </thead>\n",
              "  <tbody>\n",
              "    <tr>\n",
              "      <th>0</th>\n",
              "      <td>9552</td>\n",
              "      <td>M</td>\n",
              "      <td>61</td>\n",
              "      <td>M</td>\n",
              "      <td>Seldom</td>\n",
              "      <td>Yes</td>\n",
              "      <td>Yes</td>\n",
              "      <td>Yes</td>\n",
              "      <td>No</td>\n",
              "      <td>Bank Transfer</td>\n",
              "      <td>Late Majority</td>\n",
              "    </tr>\n",
              "    <tr>\n",
              "      <th>1</th>\n",
              "      <td>6757</td>\n",
              "      <td>M</td>\n",
              "      <td>27</td>\n",
              "      <td>M</td>\n",
              "      <td>Regular</td>\n",
              "      <td>Yes</td>\n",
              "      <td>No</td>\n",
              "      <td>Yes</td>\n",
              "      <td>No</td>\n",
              "      <td>Bank Transfer</td>\n",
              "      <td>Innovator</td>\n",
              "    </tr>\n",
              "    <tr>\n",
              "      <th>2</th>\n",
              "      <td>3599</td>\n",
              "      <td>F</td>\n",
              "      <td>29</td>\n",
              "      <td>M</td>\n",
              "      <td>Seldom</td>\n",
              "      <td>Yes</td>\n",
              "      <td>Yes</td>\n",
              "      <td>Yes</td>\n",
              "      <td>Yes</td>\n",
              "      <td>Bank Transfer</td>\n",
              "      <td>Early Adopter</td>\n",
              "    </tr>\n",
              "    <tr>\n",
              "      <th>3</th>\n",
              "      <td>6811</td>\n",
              "      <td>M</td>\n",
              "      <td>49</td>\n",
              "      <td>M</td>\n",
              "      <td>Seldom</td>\n",
              "      <td>Yes</td>\n",
              "      <td>Yes</td>\n",
              "      <td>Yes</td>\n",
              "      <td>Yes</td>\n",
              "      <td>Website Account</td>\n",
              "      <td>Early Adopter</td>\n",
              "    </tr>\n",
              "    <tr>\n",
              "      <th>4</th>\n",
              "      <td>4104</td>\n",
              "      <td>M</td>\n",
              "      <td>29</td>\n",
              "      <td>S</td>\n",
              "      <td>Seldom</td>\n",
              "      <td>Yes</td>\n",
              "      <td>Yes</td>\n",
              "      <td>Yes</td>\n",
              "      <td>No</td>\n",
              "      <td>Website Account</td>\n",
              "      <td>Late Majority</td>\n",
              "    </tr>\n",
              "  </tbody>\n",
              "</table>\n",
              "</div>\n",
              "      <button class=\"colab-df-convert\" onclick=\"convertToInteractive('df-3442f4f7-87bc-4388-a4a7-c7d325607efe')\"\n",
              "              title=\"Convert this dataframe to an interactive table.\"\n",
              "              style=\"display:none;\">\n",
              "        \n",
              "  <svg xmlns=\"http://www.w3.org/2000/svg\" height=\"24px\"viewBox=\"0 0 24 24\"\n",
              "       width=\"24px\">\n",
              "    <path d=\"M0 0h24v24H0V0z\" fill=\"none\"/>\n",
              "    <path d=\"M18.56 5.44l.94 2.06.94-2.06 2.06-.94-2.06-.94-.94-2.06-.94 2.06-2.06.94zm-11 1L8.5 8.5l.94-2.06 2.06-.94-2.06-.94L8.5 2.5l-.94 2.06-2.06.94zm10 10l.94 2.06.94-2.06 2.06-.94-2.06-.94-.94-2.06-.94 2.06-2.06.94z\"/><path d=\"M17.41 7.96l-1.37-1.37c-.4-.4-.92-.59-1.43-.59-.52 0-1.04.2-1.43.59L10.3 9.45l-7.72 7.72c-.78.78-.78 2.05 0 2.83L4 21.41c.39.39.9.59 1.41.59.51 0 1.02-.2 1.41-.59l7.78-7.78 2.81-2.81c.8-.78.8-2.07 0-2.86zM5.41 20L4 18.59l7.72-7.72 1.47 1.35L5.41 20z\"/>\n",
              "  </svg>\n",
              "      </button>\n",
              "      \n",
              "  <style>\n",
              "    .colab-df-container {\n",
              "      display:flex;\n",
              "      flex-wrap:wrap;\n",
              "      gap: 12px;\n",
              "    }\n",
              "\n",
              "    .colab-df-convert {\n",
              "      background-color: #E8F0FE;\n",
              "      border: none;\n",
              "      border-radius: 50%;\n",
              "      cursor: pointer;\n",
              "      display: none;\n",
              "      fill: #1967D2;\n",
              "      height: 32px;\n",
              "      padding: 0 0 0 0;\n",
              "      width: 32px;\n",
              "    }\n",
              "\n",
              "    .colab-df-convert:hover {\n",
              "      background-color: #E2EBFA;\n",
              "      box-shadow: 0px 1px 2px rgba(60, 64, 67, 0.3), 0px 1px 3px 1px rgba(60, 64, 67, 0.15);\n",
              "      fill: #174EA6;\n",
              "    }\n",
              "\n",
              "    [theme=dark] .colab-df-convert {\n",
              "      background-color: #3B4455;\n",
              "      fill: #D2E3FC;\n",
              "    }\n",
              "\n",
              "    [theme=dark] .colab-df-convert:hover {\n",
              "      background-color: #434B5C;\n",
              "      box-shadow: 0px 1px 3px 1px rgba(0, 0, 0, 0.15);\n",
              "      filter: drop-shadow(0px 1px 2px rgba(0, 0, 0, 0.3));\n",
              "      fill: #FFFFFF;\n",
              "    }\n",
              "  </style>\n",
              "\n",
              "      <script>\n",
              "        const buttonEl =\n",
              "          document.querySelector('#df-3442f4f7-87bc-4388-a4a7-c7d325607efe button.colab-df-convert');\n",
              "        buttonEl.style.display =\n",
              "          google.colab.kernel.accessAllowed ? 'block' : 'none';\n",
              "\n",
              "        async function convertToInteractive(key) {\n",
              "          const element = document.querySelector('#df-3442f4f7-87bc-4388-a4a7-c7d325607efe');\n",
              "          const dataTable =\n",
              "            await google.colab.kernel.invokeFunction('convertToInteractive',\n",
              "                                                     [key], {});\n",
              "          if (!dataTable) return;\n",
              "\n",
              "          const docLinkHtml = 'Like what you see? Visit the ' +\n",
              "            '<a target=\"_blank\" href=https://colab.research.google.com/notebooks/data_table.ipynb>data table notebook</a>'\n",
              "            + ' to learn more about interactive tables.';\n",
              "          element.innerHTML = '';\n",
              "          dataTable['output_type'] = 'display_data';\n",
              "          await google.colab.output.renderOutput(dataTable, element);\n",
              "          const docLink = document.createElement('div');\n",
              "          docLink.innerHTML = docLinkHtml;\n",
              "          element.appendChild(docLink);\n",
              "        }\n",
              "      </script>\n",
              "    </div>\n",
              "  </div>\n",
              "  "
            ]
          },
          "metadata": {},
          "execution_count": 98
        }
      ]
    },
    {
      "cell_type": "code",
      "source": [
        "## Check berapa data dan kolom pada data train\n",
        "data_train.shape"
      ],
      "metadata": {
        "colab": {
          "base_uri": "https://localhost:8080/"
        },
        "id": "M0tZ6Y4LX0Nm",
        "outputId": "11023199-39bd-47d2-bcce-7a704d39a267"
      },
      "execution_count": 100,
      "outputs": [
        {
          "output_type": "execute_result",
          "data": {
            "text/plain": [
              "(661, 11)"
            ]
          },
          "metadata": {},
          "execution_count": 100
        }
      ]
    },
    {
      "cell_type": "code",
      "source": [
        "## Menampilkan 5 data terakhir pada data train\n",
        "data_train.tail()"
      ],
      "metadata": {
        "colab": {
          "base_uri": "https://localhost:8080/",
          "height": 270
        },
        "id": "lJMGLnvAYEEb",
        "outputId": "bce28c04-60b2-4846-ee08-2068f6733f1f"
      },
      "execution_count": 101,
      "outputs": [
        {
          "output_type": "execute_result",
          "data": {
            "text/plain": [
              "     User_ID Gender  Age Marital_Status Website_Activity  \\\n",
              "656     8450      M   48              S         Frequent   \n",
              "657     2048      F   32              M          Regular   \n",
              "658     9630      F   26              M           Seldom   \n",
              "659     9982      F   55              S           Seldom   \n",
              "660     2542      M   57              S          Regular   \n",
              "\n",
              "    Browsed_Electronics_12Mo Bought_Electronics_12Mo  \\\n",
              "656                      Yes                     Yes   \n",
              "657                      Yes                      No   \n",
              "658                      Yes                      No   \n",
              "659                      Yes                      No   \n",
              "660                       No                     Yes   \n",
              "\n",
              "    Bought_Digital_Media_18Mo Bought_Digital_Books   Payment_Method  \\\n",
              "656                       Yes                  Yes  Website Account   \n",
              "657                       Yes                   No  Website Account   \n",
              "658                       Yes                  Yes  Website Account   \n",
              "659                       Yes                   No  Monthly Billing   \n",
              "660                       Yes                  Yes    Bank Transfer   \n",
              "\n",
              "    eReader_Adoption  \n",
              "656    Late Majority  \n",
              "657    Early Adopter  \n",
              "658   Early Majority  \n",
              "659    Early Adopter  \n",
              "660   Early Majority  "
            ],
            "text/html": [
              "\n",
              "  <div id=\"df-950db373-4388-4ada-957c-126f6d2dd228\">\n",
              "    <div class=\"colab-df-container\">\n",
              "      <div>\n",
              "<style scoped>\n",
              "    .dataframe tbody tr th:only-of-type {\n",
              "        vertical-align: middle;\n",
              "    }\n",
              "\n",
              "    .dataframe tbody tr th {\n",
              "        vertical-align: top;\n",
              "    }\n",
              "\n",
              "    .dataframe thead th {\n",
              "        text-align: right;\n",
              "    }\n",
              "</style>\n",
              "<table border=\"1\" class=\"dataframe\">\n",
              "  <thead>\n",
              "    <tr style=\"text-align: right;\">\n",
              "      <th></th>\n",
              "      <th>User_ID</th>\n",
              "      <th>Gender</th>\n",
              "      <th>Age</th>\n",
              "      <th>Marital_Status</th>\n",
              "      <th>Website_Activity</th>\n",
              "      <th>Browsed_Electronics_12Mo</th>\n",
              "      <th>Bought_Electronics_12Mo</th>\n",
              "      <th>Bought_Digital_Media_18Mo</th>\n",
              "      <th>Bought_Digital_Books</th>\n",
              "      <th>Payment_Method</th>\n",
              "      <th>eReader_Adoption</th>\n",
              "    </tr>\n",
              "  </thead>\n",
              "  <tbody>\n",
              "    <tr>\n",
              "      <th>656</th>\n",
              "      <td>8450</td>\n",
              "      <td>M</td>\n",
              "      <td>48</td>\n",
              "      <td>S</td>\n",
              "      <td>Frequent</td>\n",
              "      <td>Yes</td>\n",
              "      <td>Yes</td>\n",
              "      <td>Yes</td>\n",
              "      <td>Yes</td>\n",
              "      <td>Website Account</td>\n",
              "      <td>Late Majority</td>\n",
              "    </tr>\n",
              "    <tr>\n",
              "      <th>657</th>\n",
              "      <td>2048</td>\n",
              "      <td>F</td>\n",
              "      <td>32</td>\n",
              "      <td>M</td>\n",
              "      <td>Regular</td>\n",
              "      <td>Yes</td>\n",
              "      <td>No</td>\n",
              "      <td>Yes</td>\n",
              "      <td>No</td>\n",
              "      <td>Website Account</td>\n",
              "      <td>Early Adopter</td>\n",
              "    </tr>\n",
              "    <tr>\n",
              "      <th>658</th>\n",
              "      <td>9630</td>\n",
              "      <td>F</td>\n",
              "      <td>26</td>\n",
              "      <td>M</td>\n",
              "      <td>Seldom</td>\n",
              "      <td>Yes</td>\n",
              "      <td>No</td>\n",
              "      <td>Yes</td>\n",
              "      <td>Yes</td>\n",
              "      <td>Website Account</td>\n",
              "      <td>Early Majority</td>\n",
              "    </tr>\n",
              "    <tr>\n",
              "      <th>659</th>\n",
              "      <td>9982</td>\n",
              "      <td>F</td>\n",
              "      <td>55</td>\n",
              "      <td>S</td>\n",
              "      <td>Seldom</td>\n",
              "      <td>Yes</td>\n",
              "      <td>No</td>\n",
              "      <td>Yes</td>\n",
              "      <td>No</td>\n",
              "      <td>Monthly Billing</td>\n",
              "      <td>Early Adopter</td>\n",
              "    </tr>\n",
              "    <tr>\n",
              "      <th>660</th>\n",
              "      <td>2542</td>\n",
              "      <td>M</td>\n",
              "      <td>57</td>\n",
              "      <td>S</td>\n",
              "      <td>Regular</td>\n",
              "      <td>No</td>\n",
              "      <td>Yes</td>\n",
              "      <td>Yes</td>\n",
              "      <td>Yes</td>\n",
              "      <td>Bank Transfer</td>\n",
              "      <td>Early Majority</td>\n",
              "    </tr>\n",
              "  </tbody>\n",
              "</table>\n",
              "</div>\n",
              "      <button class=\"colab-df-convert\" onclick=\"convertToInteractive('df-950db373-4388-4ada-957c-126f6d2dd228')\"\n",
              "              title=\"Convert this dataframe to an interactive table.\"\n",
              "              style=\"display:none;\">\n",
              "        \n",
              "  <svg xmlns=\"http://www.w3.org/2000/svg\" height=\"24px\"viewBox=\"0 0 24 24\"\n",
              "       width=\"24px\">\n",
              "    <path d=\"M0 0h24v24H0V0z\" fill=\"none\"/>\n",
              "    <path d=\"M18.56 5.44l.94 2.06.94-2.06 2.06-.94-2.06-.94-.94-2.06-.94 2.06-2.06.94zm-11 1L8.5 8.5l.94-2.06 2.06-.94-2.06-.94L8.5 2.5l-.94 2.06-2.06.94zm10 10l.94 2.06.94-2.06 2.06-.94-2.06-.94-.94-2.06-.94 2.06-2.06.94z\"/><path d=\"M17.41 7.96l-1.37-1.37c-.4-.4-.92-.59-1.43-.59-.52 0-1.04.2-1.43.59L10.3 9.45l-7.72 7.72c-.78.78-.78 2.05 0 2.83L4 21.41c.39.39.9.59 1.41.59.51 0 1.02-.2 1.41-.59l7.78-7.78 2.81-2.81c.8-.78.8-2.07 0-2.86zM5.41 20L4 18.59l7.72-7.72 1.47 1.35L5.41 20z\"/>\n",
              "  </svg>\n",
              "      </button>\n",
              "      \n",
              "  <style>\n",
              "    .colab-df-container {\n",
              "      display:flex;\n",
              "      flex-wrap:wrap;\n",
              "      gap: 12px;\n",
              "    }\n",
              "\n",
              "    .colab-df-convert {\n",
              "      background-color: #E8F0FE;\n",
              "      border: none;\n",
              "      border-radius: 50%;\n",
              "      cursor: pointer;\n",
              "      display: none;\n",
              "      fill: #1967D2;\n",
              "      height: 32px;\n",
              "      padding: 0 0 0 0;\n",
              "      width: 32px;\n",
              "    }\n",
              "\n",
              "    .colab-df-convert:hover {\n",
              "      background-color: #E2EBFA;\n",
              "      box-shadow: 0px 1px 2px rgba(60, 64, 67, 0.3), 0px 1px 3px 1px rgba(60, 64, 67, 0.15);\n",
              "      fill: #174EA6;\n",
              "    }\n",
              "\n",
              "    [theme=dark] .colab-df-convert {\n",
              "      background-color: #3B4455;\n",
              "      fill: #D2E3FC;\n",
              "    }\n",
              "\n",
              "    [theme=dark] .colab-df-convert:hover {\n",
              "      background-color: #434B5C;\n",
              "      box-shadow: 0px 1px 3px 1px rgba(0, 0, 0, 0.15);\n",
              "      filter: drop-shadow(0px 1px 2px rgba(0, 0, 0, 0.3));\n",
              "      fill: #FFFFFF;\n",
              "    }\n",
              "  </style>\n",
              "\n",
              "      <script>\n",
              "        const buttonEl =\n",
              "          document.querySelector('#df-950db373-4388-4ada-957c-126f6d2dd228 button.colab-df-convert');\n",
              "        buttonEl.style.display =\n",
              "          google.colab.kernel.accessAllowed ? 'block' : 'none';\n",
              "\n",
              "        async function convertToInteractive(key) {\n",
              "          const element = document.querySelector('#df-950db373-4388-4ada-957c-126f6d2dd228');\n",
              "          const dataTable =\n",
              "            await google.colab.kernel.invokeFunction('convertToInteractive',\n",
              "                                                     [key], {});\n",
              "          if (!dataTable) return;\n",
              "\n",
              "          const docLinkHtml = 'Like what you see? Visit the ' +\n",
              "            '<a target=\"_blank\" href=https://colab.research.google.com/notebooks/data_table.ipynb>data table notebook</a>'\n",
              "            + ' to learn more about interactive tables.';\n",
              "          element.innerHTML = '';\n",
              "          dataTable['output_type'] = 'display_data';\n",
              "          await google.colab.output.renderOutput(dataTable, element);\n",
              "          const docLink = document.createElement('div');\n",
              "          docLink.innerHTML = docLinkHtml;\n",
              "          element.appendChild(docLink);\n",
              "        }\n",
              "      </script>\n",
              "    </div>\n",
              "  </div>\n",
              "  "
            ]
          },
          "metadata": {},
          "execution_count": 101
        }
      ]
    },
    {
      "cell_type": "code",
      "source": [
        "## Menampilkan info dari data train\n",
        "data_train.info()"
      ],
      "metadata": {
        "colab": {
          "base_uri": "https://localhost:8080/"
        },
        "id": "ueC3Fu2SYVQI",
        "outputId": "83a91c73-cb56-489d-eb45-2e65705fef3c"
      },
      "execution_count": 102,
      "outputs": [
        {
          "output_type": "stream",
          "name": "stdout",
          "text": [
            "<class 'pandas.core.frame.DataFrame'>\n",
            "RangeIndex: 661 entries, 0 to 660\n",
            "Data columns (total 11 columns):\n",
            " #   Column                     Non-Null Count  Dtype \n",
            "---  ------                     --------------  ----- \n",
            " 0   User_ID                    661 non-null    int64 \n",
            " 1   Gender                     661 non-null    object\n",
            " 2   Age                        661 non-null    int64 \n",
            " 3   Marital_Status             661 non-null    object\n",
            " 4   Website_Activity           661 non-null    object\n",
            " 5   Browsed_Electronics_12Mo   661 non-null    object\n",
            " 6   Bought_Electronics_12Mo    661 non-null    object\n",
            " 7   Bought_Digital_Media_18Mo  661 non-null    object\n",
            " 8   Bought_Digital_Books       661 non-null    object\n",
            " 9   Payment_Method             661 non-null    object\n",
            " 10  eReader_Adoption           661 non-null    object\n",
            "dtypes: int64(2), object(9)\n",
            "memory usage: 56.9+ KB\n"
          ]
        }
      ]
    },
    {
      "cell_type": "markdown",
      "metadata": {
        "id": "J-tv32RouoEu"
      },
      "source": [
        "# Data Preparation"
      ]
    },
    {
      "cell_type": "markdown",
      "metadata": {
        "id": "wupdCkP5uoEz"
      },
      "source": [
        "## Data Loading"
      ]
    },
    {
      "cell_type": "code",
      "execution_count": 19,
      "metadata": {
        "colab": {
          "base_uri": "https://localhost:8080/",
          "height": 487
        },
        "id": "cZs7zVlRuoE0",
        "outputId": "5c491700-f906-4145-8a42-725f85f42456"
      },
      "outputs": [
        {
          "output_type": "execute_result",
          "data": {
            "text/plain": [
              "     User_ID Gender  Age Marital_Status Website_Activity  \\\n",
              "0       9552      M   61              M           Seldom   \n",
              "1       6757      M   27              M          Regular   \n",
              "2       3599      F   29              M           Seldom   \n",
              "3       6811      M   49              M           Seldom   \n",
              "4       4104      M   29              S           Seldom   \n",
              "..       ...    ...  ...            ...              ...   \n",
              "656     8450      M   48              S         Frequent   \n",
              "657     2048      F   32              M          Regular   \n",
              "658     9630      F   26              M           Seldom   \n",
              "659     9982      F   55              S           Seldom   \n",
              "660     2542      M   57              S          Regular   \n",
              "\n",
              "    Browsed_Electronics_12Mo Bought_Electronics_12Mo  \\\n",
              "0                        Yes                     Yes   \n",
              "1                        Yes                      No   \n",
              "2                        Yes                     Yes   \n",
              "3                        Yes                     Yes   \n",
              "4                        Yes                     Yes   \n",
              "..                       ...                     ...   \n",
              "656                      Yes                     Yes   \n",
              "657                      Yes                      No   \n",
              "658                      Yes                      No   \n",
              "659                      Yes                      No   \n",
              "660                       No                     Yes   \n",
              "\n",
              "    Bought_Digital_Media_18Mo Bought_Digital_Books   Payment_Method  \\\n",
              "0                         Yes                   No    Bank Transfer   \n",
              "1                         Yes                   No    Bank Transfer   \n",
              "2                         Yes                  Yes    Bank Transfer   \n",
              "3                         Yes                  Yes  Website Account   \n",
              "4                         Yes                   No  Website Account   \n",
              "..                        ...                  ...              ...   \n",
              "656                       Yes                  Yes  Website Account   \n",
              "657                       Yes                   No  Website Account   \n",
              "658                       Yes                  Yes  Website Account   \n",
              "659                       Yes                   No  Monthly Billing   \n",
              "660                       Yes                  Yes    Bank Transfer   \n",
              "\n",
              "    eReader_Adoption  \n",
              "0      Late Majority  \n",
              "1          Innovator  \n",
              "2      Early Adopter  \n",
              "3      Early Adopter  \n",
              "4      Late Majority  \n",
              "..               ...  \n",
              "656    Late Majority  \n",
              "657    Early Adopter  \n",
              "658   Early Majority  \n",
              "659    Early Adopter  \n",
              "660   Early Majority  \n",
              "\n",
              "[661 rows x 11 columns]"
            ],
            "text/html": [
              "\n",
              "  <div id=\"df-d07090d5-a2cc-491b-9c67-15721e5f803b\">\n",
              "    <div class=\"colab-df-container\">\n",
              "      <div>\n",
              "<style scoped>\n",
              "    .dataframe tbody tr th:only-of-type {\n",
              "        vertical-align: middle;\n",
              "    }\n",
              "\n",
              "    .dataframe tbody tr th {\n",
              "        vertical-align: top;\n",
              "    }\n",
              "\n",
              "    .dataframe thead th {\n",
              "        text-align: right;\n",
              "    }\n",
              "</style>\n",
              "<table border=\"1\" class=\"dataframe\">\n",
              "  <thead>\n",
              "    <tr style=\"text-align: right;\">\n",
              "      <th></th>\n",
              "      <th>User_ID</th>\n",
              "      <th>Gender</th>\n",
              "      <th>Age</th>\n",
              "      <th>Marital_Status</th>\n",
              "      <th>Website_Activity</th>\n",
              "      <th>Browsed_Electronics_12Mo</th>\n",
              "      <th>Bought_Electronics_12Mo</th>\n",
              "      <th>Bought_Digital_Media_18Mo</th>\n",
              "      <th>Bought_Digital_Books</th>\n",
              "      <th>Payment_Method</th>\n",
              "      <th>eReader_Adoption</th>\n",
              "    </tr>\n",
              "  </thead>\n",
              "  <tbody>\n",
              "    <tr>\n",
              "      <th>0</th>\n",
              "      <td>9552</td>\n",
              "      <td>M</td>\n",
              "      <td>61</td>\n",
              "      <td>M</td>\n",
              "      <td>Seldom</td>\n",
              "      <td>Yes</td>\n",
              "      <td>Yes</td>\n",
              "      <td>Yes</td>\n",
              "      <td>No</td>\n",
              "      <td>Bank Transfer</td>\n",
              "      <td>Late Majority</td>\n",
              "    </tr>\n",
              "    <tr>\n",
              "      <th>1</th>\n",
              "      <td>6757</td>\n",
              "      <td>M</td>\n",
              "      <td>27</td>\n",
              "      <td>M</td>\n",
              "      <td>Regular</td>\n",
              "      <td>Yes</td>\n",
              "      <td>No</td>\n",
              "      <td>Yes</td>\n",
              "      <td>No</td>\n",
              "      <td>Bank Transfer</td>\n",
              "      <td>Innovator</td>\n",
              "    </tr>\n",
              "    <tr>\n",
              "      <th>2</th>\n",
              "      <td>3599</td>\n",
              "      <td>F</td>\n",
              "      <td>29</td>\n",
              "      <td>M</td>\n",
              "      <td>Seldom</td>\n",
              "      <td>Yes</td>\n",
              "      <td>Yes</td>\n",
              "      <td>Yes</td>\n",
              "      <td>Yes</td>\n",
              "      <td>Bank Transfer</td>\n",
              "      <td>Early Adopter</td>\n",
              "    </tr>\n",
              "    <tr>\n",
              "      <th>3</th>\n",
              "      <td>6811</td>\n",
              "      <td>M</td>\n",
              "      <td>49</td>\n",
              "      <td>M</td>\n",
              "      <td>Seldom</td>\n",
              "      <td>Yes</td>\n",
              "      <td>Yes</td>\n",
              "      <td>Yes</td>\n",
              "      <td>Yes</td>\n",
              "      <td>Website Account</td>\n",
              "      <td>Early Adopter</td>\n",
              "    </tr>\n",
              "    <tr>\n",
              "      <th>4</th>\n",
              "      <td>4104</td>\n",
              "      <td>M</td>\n",
              "      <td>29</td>\n",
              "      <td>S</td>\n",
              "      <td>Seldom</td>\n",
              "      <td>Yes</td>\n",
              "      <td>Yes</td>\n",
              "      <td>Yes</td>\n",
              "      <td>No</td>\n",
              "      <td>Website Account</td>\n",
              "      <td>Late Majority</td>\n",
              "    </tr>\n",
              "    <tr>\n",
              "      <th>...</th>\n",
              "      <td>...</td>\n",
              "      <td>...</td>\n",
              "      <td>...</td>\n",
              "      <td>...</td>\n",
              "      <td>...</td>\n",
              "      <td>...</td>\n",
              "      <td>...</td>\n",
              "      <td>...</td>\n",
              "      <td>...</td>\n",
              "      <td>...</td>\n",
              "      <td>...</td>\n",
              "    </tr>\n",
              "    <tr>\n",
              "      <th>656</th>\n",
              "      <td>8450</td>\n",
              "      <td>M</td>\n",
              "      <td>48</td>\n",
              "      <td>S</td>\n",
              "      <td>Frequent</td>\n",
              "      <td>Yes</td>\n",
              "      <td>Yes</td>\n",
              "      <td>Yes</td>\n",
              "      <td>Yes</td>\n",
              "      <td>Website Account</td>\n",
              "      <td>Late Majority</td>\n",
              "    </tr>\n",
              "    <tr>\n",
              "      <th>657</th>\n",
              "      <td>2048</td>\n",
              "      <td>F</td>\n",
              "      <td>32</td>\n",
              "      <td>M</td>\n",
              "      <td>Regular</td>\n",
              "      <td>Yes</td>\n",
              "      <td>No</td>\n",
              "      <td>Yes</td>\n",
              "      <td>No</td>\n",
              "      <td>Website Account</td>\n",
              "      <td>Early Adopter</td>\n",
              "    </tr>\n",
              "    <tr>\n",
              "      <th>658</th>\n",
              "      <td>9630</td>\n",
              "      <td>F</td>\n",
              "      <td>26</td>\n",
              "      <td>M</td>\n",
              "      <td>Seldom</td>\n",
              "      <td>Yes</td>\n",
              "      <td>No</td>\n",
              "      <td>Yes</td>\n",
              "      <td>Yes</td>\n",
              "      <td>Website Account</td>\n",
              "      <td>Early Majority</td>\n",
              "    </tr>\n",
              "    <tr>\n",
              "      <th>659</th>\n",
              "      <td>9982</td>\n",
              "      <td>F</td>\n",
              "      <td>55</td>\n",
              "      <td>S</td>\n",
              "      <td>Seldom</td>\n",
              "      <td>Yes</td>\n",
              "      <td>No</td>\n",
              "      <td>Yes</td>\n",
              "      <td>No</td>\n",
              "      <td>Monthly Billing</td>\n",
              "      <td>Early Adopter</td>\n",
              "    </tr>\n",
              "    <tr>\n",
              "      <th>660</th>\n",
              "      <td>2542</td>\n",
              "      <td>M</td>\n",
              "      <td>57</td>\n",
              "      <td>S</td>\n",
              "      <td>Regular</td>\n",
              "      <td>No</td>\n",
              "      <td>Yes</td>\n",
              "      <td>Yes</td>\n",
              "      <td>Yes</td>\n",
              "      <td>Bank Transfer</td>\n",
              "      <td>Early Majority</td>\n",
              "    </tr>\n",
              "  </tbody>\n",
              "</table>\n",
              "<p>661 rows × 11 columns</p>\n",
              "</div>\n",
              "      <button class=\"colab-df-convert\" onclick=\"convertToInteractive('df-d07090d5-a2cc-491b-9c67-15721e5f803b')\"\n",
              "              title=\"Convert this dataframe to an interactive table.\"\n",
              "              style=\"display:none;\">\n",
              "        \n",
              "  <svg xmlns=\"http://www.w3.org/2000/svg\" height=\"24px\"viewBox=\"0 0 24 24\"\n",
              "       width=\"24px\">\n",
              "    <path d=\"M0 0h24v24H0V0z\" fill=\"none\"/>\n",
              "    <path d=\"M18.56 5.44l.94 2.06.94-2.06 2.06-.94-2.06-.94-.94-2.06-.94 2.06-2.06.94zm-11 1L8.5 8.5l.94-2.06 2.06-.94-2.06-.94L8.5 2.5l-.94 2.06-2.06.94zm10 10l.94 2.06.94-2.06 2.06-.94-2.06-.94-.94-2.06-.94 2.06-2.06.94z\"/><path d=\"M17.41 7.96l-1.37-1.37c-.4-.4-.92-.59-1.43-.59-.52 0-1.04.2-1.43.59L10.3 9.45l-7.72 7.72c-.78.78-.78 2.05 0 2.83L4 21.41c.39.39.9.59 1.41.59.51 0 1.02-.2 1.41-.59l7.78-7.78 2.81-2.81c.8-.78.8-2.07 0-2.86zM5.41 20L4 18.59l7.72-7.72 1.47 1.35L5.41 20z\"/>\n",
              "  </svg>\n",
              "      </button>\n",
              "      \n",
              "  <style>\n",
              "    .colab-df-container {\n",
              "      display:flex;\n",
              "      flex-wrap:wrap;\n",
              "      gap: 12px;\n",
              "    }\n",
              "\n",
              "    .colab-df-convert {\n",
              "      background-color: #E8F0FE;\n",
              "      border: none;\n",
              "      border-radius: 50%;\n",
              "      cursor: pointer;\n",
              "      display: none;\n",
              "      fill: #1967D2;\n",
              "      height: 32px;\n",
              "      padding: 0 0 0 0;\n",
              "      width: 32px;\n",
              "    }\n",
              "\n",
              "    .colab-df-convert:hover {\n",
              "      background-color: #E2EBFA;\n",
              "      box-shadow: 0px 1px 2px rgba(60, 64, 67, 0.3), 0px 1px 3px 1px rgba(60, 64, 67, 0.15);\n",
              "      fill: #174EA6;\n",
              "    }\n",
              "\n",
              "    [theme=dark] .colab-df-convert {\n",
              "      background-color: #3B4455;\n",
              "      fill: #D2E3FC;\n",
              "    }\n",
              "\n",
              "    [theme=dark] .colab-df-convert:hover {\n",
              "      background-color: #434B5C;\n",
              "      box-shadow: 0px 1px 3px 1px rgba(0, 0, 0, 0.15);\n",
              "      filter: drop-shadow(0px 1px 2px rgba(0, 0, 0, 0.3));\n",
              "      fill: #FFFFFF;\n",
              "    }\n",
              "  </style>\n",
              "\n",
              "      <script>\n",
              "        const buttonEl =\n",
              "          document.querySelector('#df-d07090d5-a2cc-491b-9c67-15721e5f803b button.colab-df-convert');\n",
              "        buttonEl.style.display =\n",
              "          google.colab.kernel.accessAllowed ? 'block' : 'none';\n",
              "\n",
              "        async function convertToInteractive(key) {\n",
              "          const element = document.querySelector('#df-d07090d5-a2cc-491b-9c67-15721e5f803b');\n",
              "          const dataTable =\n",
              "            await google.colab.kernel.invokeFunction('convertToInteractive',\n",
              "                                                     [key], {});\n",
              "          if (!dataTable) return;\n",
              "\n",
              "          const docLinkHtml = 'Like what you see? Visit the ' +\n",
              "            '<a target=\"_blank\" href=https://colab.research.google.com/notebooks/data_table.ipynb>data table notebook</a>'\n",
              "            + ' to learn more about interactive tables.';\n",
              "          element.innerHTML = '';\n",
              "          dataTable['output_type'] = 'display_data';\n",
              "          await google.colab.output.renderOutput(dataTable, element);\n",
              "          const docLink = document.createElement('div');\n",
              "          docLink.innerHTML = docLinkHtml;\n",
              "          element.appendChild(docLink);\n",
              "        }\n",
              "      </script>\n",
              "    </div>\n",
              "  </div>\n",
              "  "
            ]
          },
          "metadata": {},
          "execution_count": 19
        }
      ],
      "source": [
        "data_train"
      ]
    },
    {
      "cell_type": "code",
      "execution_count": 20,
      "metadata": {
        "colab": {
          "base_uri": "https://localhost:8080/",
          "height": 423
        },
        "id": "eCyjsr_JuoE3",
        "outputId": "e8c0161b-3035-472b-9622-3b2aece09e90"
      },
      "outputs": [
        {
          "output_type": "execute_result",
          "data": {
            "text/plain": [
              "     User_ID Gender  Age Marital_Status Website_Activity  \\\n",
              "0      56031      M   57              S          Regular   \n",
              "1      25913      F   51              M          Regular   \n",
              "2      19396      M   41              M           Seldom   \n",
              "3      93666      M   66              S          Regular   \n",
              "4      72282      F   31              S           Seldom   \n",
              "..       ...    ...  ...            ...              ...   \n",
              "468    45102      M   60              S           Seldom   \n",
              "469    96393      F   24              S           Seldom   \n",
              "470    40897      M   23              M          Regular   \n",
              "471    23653      F   36              S           Seldom   \n",
              "472    88464      M   46              S           Seldom   \n",
              "\n",
              "    Browsed_Electronics_12Mo Bought_Electronics_12Mo  \\\n",
              "0                        Yes                     Yes   \n",
              "1                        Yes                     Yes   \n",
              "2                        Yes                     Yes   \n",
              "3                        Yes                     Yes   \n",
              "4                        Yes                      No   \n",
              "..                       ...                     ...   \n",
              "468                      Yes                      No   \n",
              "469                      Yes                      No   \n",
              "470                      Yes                     Yes   \n",
              "471                      Yes                      No   \n",
              "472                      Yes                     Yes   \n",
              "\n",
              "    Bought_Digital_Media_18Mo Bought_Digital_Books   Payment_Method  \n",
              "0                         Yes                  Yes    Bank Transfer  \n",
              "1                          No                   No    Bank Transfer  \n",
              "2                         Yes                   No  Website Account  \n",
              "3                         Yes                  Yes      Credit Card  \n",
              "4                         Yes                   No  Website Account  \n",
              "..                        ...                  ...              ...  \n",
              "468                       Yes                  Yes    Bank Transfer  \n",
              "469                        No                   No      Credit Card  \n",
              "470                       Yes                  Yes  Website Account  \n",
              "471                       Yes                   No    Bank Transfer  \n",
              "472                       Yes                  Yes    Bank Transfer  \n",
              "\n",
              "[473 rows x 10 columns]"
            ],
            "text/html": [
              "\n",
              "  <div id=\"df-fa901012-1666-4be7-b3b9-67a87b20278c\">\n",
              "    <div class=\"colab-df-container\">\n",
              "      <div>\n",
              "<style scoped>\n",
              "    .dataframe tbody tr th:only-of-type {\n",
              "        vertical-align: middle;\n",
              "    }\n",
              "\n",
              "    .dataframe tbody tr th {\n",
              "        vertical-align: top;\n",
              "    }\n",
              "\n",
              "    .dataframe thead th {\n",
              "        text-align: right;\n",
              "    }\n",
              "</style>\n",
              "<table border=\"1\" class=\"dataframe\">\n",
              "  <thead>\n",
              "    <tr style=\"text-align: right;\">\n",
              "      <th></th>\n",
              "      <th>User_ID</th>\n",
              "      <th>Gender</th>\n",
              "      <th>Age</th>\n",
              "      <th>Marital_Status</th>\n",
              "      <th>Website_Activity</th>\n",
              "      <th>Browsed_Electronics_12Mo</th>\n",
              "      <th>Bought_Electronics_12Mo</th>\n",
              "      <th>Bought_Digital_Media_18Mo</th>\n",
              "      <th>Bought_Digital_Books</th>\n",
              "      <th>Payment_Method</th>\n",
              "    </tr>\n",
              "  </thead>\n",
              "  <tbody>\n",
              "    <tr>\n",
              "      <th>0</th>\n",
              "      <td>56031</td>\n",
              "      <td>M</td>\n",
              "      <td>57</td>\n",
              "      <td>S</td>\n",
              "      <td>Regular</td>\n",
              "      <td>Yes</td>\n",
              "      <td>Yes</td>\n",
              "      <td>Yes</td>\n",
              "      <td>Yes</td>\n",
              "      <td>Bank Transfer</td>\n",
              "    </tr>\n",
              "    <tr>\n",
              "      <th>1</th>\n",
              "      <td>25913</td>\n",
              "      <td>F</td>\n",
              "      <td>51</td>\n",
              "      <td>M</td>\n",
              "      <td>Regular</td>\n",
              "      <td>Yes</td>\n",
              "      <td>Yes</td>\n",
              "      <td>No</td>\n",
              "      <td>No</td>\n",
              "      <td>Bank Transfer</td>\n",
              "    </tr>\n",
              "    <tr>\n",
              "      <th>2</th>\n",
              "      <td>19396</td>\n",
              "      <td>M</td>\n",
              "      <td>41</td>\n",
              "      <td>M</td>\n",
              "      <td>Seldom</td>\n",
              "      <td>Yes</td>\n",
              "      <td>Yes</td>\n",
              "      <td>Yes</td>\n",
              "      <td>No</td>\n",
              "      <td>Website Account</td>\n",
              "    </tr>\n",
              "    <tr>\n",
              "      <th>3</th>\n",
              "      <td>93666</td>\n",
              "      <td>M</td>\n",
              "      <td>66</td>\n",
              "      <td>S</td>\n",
              "      <td>Regular</td>\n",
              "      <td>Yes</td>\n",
              "      <td>Yes</td>\n",
              "      <td>Yes</td>\n",
              "      <td>Yes</td>\n",
              "      <td>Credit Card</td>\n",
              "    </tr>\n",
              "    <tr>\n",
              "      <th>4</th>\n",
              "      <td>72282</td>\n",
              "      <td>F</td>\n",
              "      <td>31</td>\n",
              "      <td>S</td>\n",
              "      <td>Seldom</td>\n",
              "      <td>Yes</td>\n",
              "      <td>No</td>\n",
              "      <td>Yes</td>\n",
              "      <td>No</td>\n",
              "      <td>Website Account</td>\n",
              "    </tr>\n",
              "    <tr>\n",
              "      <th>...</th>\n",
              "      <td>...</td>\n",
              "      <td>...</td>\n",
              "      <td>...</td>\n",
              "      <td>...</td>\n",
              "      <td>...</td>\n",
              "      <td>...</td>\n",
              "      <td>...</td>\n",
              "      <td>...</td>\n",
              "      <td>...</td>\n",
              "      <td>...</td>\n",
              "    </tr>\n",
              "    <tr>\n",
              "      <th>468</th>\n",
              "      <td>45102</td>\n",
              "      <td>M</td>\n",
              "      <td>60</td>\n",
              "      <td>S</td>\n",
              "      <td>Seldom</td>\n",
              "      <td>Yes</td>\n",
              "      <td>No</td>\n",
              "      <td>Yes</td>\n",
              "      <td>Yes</td>\n",
              "      <td>Bank Transfer</td>\n",
              "    </tr>\n",
              "    <tr>\n",
              "      <th>469</th>\n",
              "      <td>96393</td>\n",
              "      <td>F</td>\n",
              "      <td>24</td>\n",
              "      <td>S</td>\n",
              "      <td>Seldom</td>\n",
              "      <td>Yes</td>\n",
              "      <td>No</td>\n",
              "      <td>No</td>\n",
              "      <td>No</td>\n",
              "      <td>Credit Card</td>\n",
              "    </tr>\n",
              "    <tr>\n",
              "      <th>470</th>\n",
              "      <td>40897</td>\n",
              "      <td>M</td>\n",
              "      <td>23</td>\n",
              "      <td>M</td>\n",
              "      <td>Regular</td>\n",
              "      <td>Yes</td>\n",
              "      <td>Yes</td>\n",
              "      <td>Yes</td>\n",
              "      <td>Yes</td>\n",
              "      <td>Website Account</td>\n",
              "    </tr>\n",
              "    <tr>\n",
              "      <th>471</th>\n",
              "      <td>23653</td>\n",
              "      <td>F</td>\n",
              "      <td>36</td>\n",
              "      <td>S</td>\n",
              "      <td>Seldom</td>\n",
              "      <td>Yes</td>\n",
              "      <td>No</td>\n",
              "      <td>Yes</td>\n",
              "      <td>No</td>\n",
              "      <td>Bank Transfer</td>\n",
              "    </tr>\n",
              "    <tr>\n",
              "      <th>472</th>\n",
              "      <td>88464</td>\n",
              "      <td>M</td>\n",
              "      <td>46</td>\n",
              "      <td>S</td>\n",
              "      <td>Seldom</td>\n",
              "      <td>Yes</td>\n",
              "      <td>Yes</td>\n",
              "      <td>Yes</td>\n",
              "      <td>Yes</td>\n",
              "      <td>Bank Transfer</td>\n",
              "    </tr>\n",
              "  </tbody>\n",
              "</table>\n",
              "<p>473 rows × 10 columns</p>\n",
              "</div>\n",
              "      <button class=\"colab-df-convert\" onclick=\"convertToInteractive('df-fa901012-1666-4be7-b3b9-67a87b20278c')\"\n",
              "              title=\"Convert this dataframe to an interactive table.\"\n",
              "              style=\"display:none;\">\n",
              "        \n",
              "  <svg xmlns=\"http://www.w3.org/2000/svg\" height=\"24px\"viewBox=\"0 0 24 24\"\n",
              "       width=\"24px\">\n",
              "    <path d=\"M0 0h24v24H0V0z\" fill=\"none\"/>\n",
              "    <path d=\"M18.56 5.44l.94 2.06.94-2.06 2.06-.94-2.06-.94-.94-2.06-.94 2.06-2.06.94zm-11 1L8.5 8.5l.94-2.06 2.06-.94-2.06-.94L8.5 2.5l-.94 2.06-2.06.94zm10 10l.94 2.06.94-2.06 2.06-.94-2.06-.94-.94-2.06-.94 2.06-2.06.94z\"/><path d=\"M17.41 7.96l-1.37-1.37c-.4-.4-.92-.59-1.43-.59-.52 0-1.04.2-1.43.59L10.3 9.45l-7.72 7.72c-.78.78-.78 2.05 0 2.83L4 21.41c.39.39.9.59 1.41.59.51 0 1.02-.2 1.41-.59l7.78-7.78 2.81-2.81c.8-.78.8-2.07 0-2.86zM5.41 20L4 18.59l7.72-7.72 1.47 1.35L5.41 20z\"/>\n",
              "  </svg>\n",
              "      </button>\n",
              "      \n",
              "  <style>\n",
              "    .colab-df-container {\n",
              "      display:flex;\n",
              "      flex-wrap:wrap;\n",
              "      gap: 12px;\n",
              "    }\n",
              "\n",
              "    .colab-df-convert {\n",
              "      background-color: #E8F0FE;\n",
              "      border: none;\n",
              "      border-radius: 50%;\n",
              "      cursor: pointer;\n",
              "      display: none;\n",
              "      fill: #1967D2;\n",
              "      height: 32px;\n",
              "      padding: 0 0 0 0;\n",
              "      width: 32px;\n",
              "    }\n",
              "\n",
              "    .colab-df-convert:hover {\n",
              "      background-color: #E2EBFA;\n",
              "      box-shadow: 0px 1px 2px rgba(60, 64, 67, 0.3), 0px 1px 3px 1px rgba(60, 64, 67, 0.15);\n",
              "      fill: #174EA6;\n",
              "    }\n",
              "\n",
              "    [theme=dark] .colab-df-convert {\n",
              "      background-color: #3B4455;\n",
              "      fill: #D2E3FC;\n",
              "    }\n",
              "\n",
              "    [theme=dark] .colab-df-convert:hover {\n",
              "      background-color: #434B5C;\n",
              "      box-shadow: 0px 1px 3px 1px rgba(0, 0, 0, 0.15);\n",
              "      filter: drop-shadow(0px 1px 2px rgba(0, 0, 0, 0.3));\n",
              "      fill: #FFFFFF;\n",
              "    }\n",
              "  </style>\n",
              "\n",
              "      <script>\n",
              "        const buttonEl =\n",
              "          document.querySelector('#df-fa901012-1666-4be7-b3b9-67a87b20278c button.colab-df-convert');\n",
              "        buttonEl.style.display =\n",
              "          google.colab.kernel.accessAllowed ? 'block' : 'none';\n",
              "\n",
              "        async function convertToInteractive(key) {\n",
              "          const element = document.querySelector('#df-fa901012-1666-4be7-b3b9-67a87b20278c');\n",
              "          const dataTable =\n",
              "            await google.colab.kernel.invokeFunction('convertToInteractive',\n",
              "                                                     [key], {});\n",
              "          if (!dataTable) return;\n",
              "\n",
              "          const docLinkHtml = 'Like what you see? Visit the ' +\n",
              "            '<a target=\"_blank\" href=https://colab.research.google.com/notebooks/data_table.ipynb>data table notebook</a>'\n",
              "            + ' to learn more about interactive tables.';\n",
              "          element.innerHTML = '';\n",
              "          dataTable['output_type'] = 'display_data';\n",
              "          await google.colab.output.renderOutput(dataTable, element);\n",
              "          const docLink = document.createElement('div');\n",
              "          docLink.innerHTML = docLinkHtml;\n",
              "          element.appendChild(docLink);\n",
              "        }\n",
              "      </script>\n",
              "    </div>\n",
              "  </div>\n",
              "  "
            ]
          },
          "metadata": {},
          "execution_count": 20
        }
      ],
      "source": [
        "data_test"
      ]
    },
    {
      "cell_type": "markdown",
      "metadata": {
        "id": "099daGB6uoE5"
      },
      "source": [
        "# **EXPLORATORY DATA ANALYSIS**"
      ]
    },
    {
      "cell_type": "code",
      "execution_count": 22,
      "metadata": {
        "colab": {
          "base_uri": "https://localhost:8080/",
          "height": 412
        },
        "id": "OU-fdmshuoE6",
        "outputId": "0404d3f7-4471-4b60-ec73-36a8fbb02e9c"
      },
      "outputs": [
        {
          "output_type": "display_data",
          "data": {
            "text/plain": [
              "<Figure size 936x432 with 1 Axes>"
            ],
            "image/png": "[encoded data removed]"
          },
          "metadata": {}
        }
      ],
      "source": [
        "sns.set(rc={'figure.figsize':(13,6)})\n",
        "sns.countplot(data=data_train, x='eReader_Adoption')\n",
        "plt.title('Perbandingan eReader_Adoption', size=15)\n",
        "plt.show()"
      ]
    },
    {
      "cell_type": "markdown",
      "metadata": {
        "id": "gT_mo2dUuoE7"
      },
      "source": [
        "Berdasarkan grafik diatas kita bisa melihat bahwa Early adoptor mempunyai nilai tertinggi dengan skor 205 pelanggan, dan yang mendapatkan nilai terendah berada di Innovator dengan skor 98 pelanggan."
      ]
    },
    {
      "cell_type": "markdown",
      "metadata": {
        "id": "BtTF6JGsuoE7"
      },
      "source": [
        "# **DATA PREPROCESSING**"
      ]
    },
    {
      "cell_type": "markdown",
      "metadata": {
        "id": "qDEw6zO9uoE7"
      },
      "source": [
        "Pada bagian ini kita akan melakukan feature engineering seperti, melakukan split antara Train dan Test, handling outliers dan handling missing value dll."
      ]
    },
    {
      "cell_type": "markdown",
      "metadata": {
        "id": "-UbLIEv9uoE8"
      },
      "source": [
        "Kita akan melakukan Split data antara X dan y"
      ]
    },
    {
      "cell_type": "code",
      "execution_count": 23,
      "metadata": {
        "id": "Q59r6q-DuoE8"
      },
      "outputs": [],
      "source": [
        "X = data_train.drop('eReader_Adoption', axis=1)\n",
        "y = data_train['eReader_Adoption']"
      ]
    },
    {
      "cell_type": "markdown",
      "metadata": {
        "id": "YglGkcehuoE9"
      },
      "source": [
        "Kita akan mengubah target kita akan menjadi binary"
      ]
    },
    {
      "cell_type": "code",
      "execution_count": 82,
      "metadata": {
        "colab": {
          "base_uri": "https://localhost:8080/"
        },
        "id": "tY6B_hLEuoE9",
        "outputId": "0707ca2a-85eb-497b-dd58-00c33facfb11"
      },
      "outputs": [
        {
          "output_type": "execute_result",
          "data": {
            "text/plain": [
              "array([3, 2, 0, 0, 3, 1, 0, 3, 2, 1, 2, 0, 3, 2, 2, 3, 0, 0, 1, 3, 0, 1,\n",
              "       3, 3, 3, 2, 0, 0, 3, 0, 0, 1, 1, 1, 3, 2, 1, 3, 2, 3, 0, 3, 1, 3,\n",
              "       2, 3, 0, 3, 3, 0, 3, 0, 0, 0, 0, 3, 1, 1, 1, 2, 0, 0, 0, 0, 3, 0,\n",
              "       1, 1, 0, 0, 0, 3, 1, 3, 1, 1, 1, 3, 1, 0, 3, 1, 2, 0, 3, 0, 1, 0,\n",
              "       0, 3, 1, 0, 3, 2, 2, 0, 1, 3, 2, 0, 1, 0, 1, 1, 1, 0, 2, 2, 0, 1,\n",
              "       1, 1, 1, 1, 2, 1, 1, 1, 3, 0, 1, 0, 1, 2, 1, 0, 0, 2, 3, 2, 2, 0,\n",
              "       0, 1, 2, 1, 0, 0, 1, 3, 3, 1, 0, 2, 0, 1, 0, 1, 1, 3, 2, 1, 1, 3,\n",
              "       2, 3, 1, 2, 1, 0, 0, 1, 1, 1, 2, 3, 1, 0, 2, 0, 0, 0, 3, 3, 3, 0,\n",
              "       0, 3, 2, 1, 1, 1, 1, 1, 1, 3, 3, 3, 3, 0, 0, 0, 0, 1, 3, 3, 3, 1,\n",
              "       0, 0, 0, 0, 0, 0, 0, 1, 1, 0, 3, 3, 1, 2, 1, 1, 0, 0, 3, 3, 2, 1,\n",
              "       3, 3, 3, 3, 0, 1, 1, 3, 0, 2, 3, 0, 2, 2, 0, 3, 0, 3, 2, 2, 0, 1,\n",
              "       3, 2, 1, 3, 2, 0, 3, 0, 0, 3, 0, 3, 2, 3, 1, 0, 1, 0, 1, 0, 2, 2,\n",
              "       1, 3, 2, 1, 0, 1, 0, 0, 0, 0, 1, 2, 0, 1, 2, 0, 1, 2, 0, 1, 3, 0,\n",
              "       2, 1, 2, 2, 1, 0, 0, 1, 0, 2, 2, 0, 0, 0, 2, 3, 3, 1, 1, 1, 3, 0,\n",
              "       1, 1, 0, 0, 3, 1, 3, 1, 2, 1, 0, 2, 2, 3, 3, 3, 3, 3, 0, 0, 0, 0,\n",
              "       3, 3, 3, 0, 0, 1, 0, 1, 3, 0, 0, 3, 3, 1, 1, 0, 0, 3, 1, 2, 0, 0,\n",
              "       1, 3, 2, 2, 0, 3, 3, 3, 0, 2, 0, 0, 2, 3, 1, 1, 3, 3, 3, 3, 3, 2,\n",
              "       0, 0, 3, 1, 1, 3, 1, 0, 3, 3, 1, 0, 1, 0, 1, 0, 3, 3, 0, 3, 1, 0,\n",
              "       1, 0, 0, 3, 2, 0, 1, 3, 3, 1, 1, 1, 0, 3, 3, 0, 3, 0, 2, 0, 0, 1,\n",
              "       0, 0, 2, 2, 3, 2, 3, 1, 0, 0, 1, 1, 3, 3, 3, 1, 1, 1, 3, 0, 3, 0,\n",
              "       3, 1, 0, 0, 2, 0, 1, 1, 2, 3, 0, 0, 1, 2, 2, 1, 0, 2, 3, 1, 0, 0,\n",
              "       1, 1, 2, 1, 0, 1, 0, 2, 1, 2, 0, 3, 3, 3, 0, 3, 2, 0, 3, 1, 1, 3,\n",
              "       1, 1, 3, 2, 0, 0, 3, 1, 3, 0, 1, 0, 2, 1, 1, 3, 0, 1, 3, 2, 0, 3,\n",
              "       3, 1, 2, 1, 0, 0, 3, 3, 1, 3, 1, 1, 2, 3, 0, 1, 3, 1, 3, 3, 1, 3,\n",
              "       0, 2, 2, 3, 1, 0, 3, 0, 3, 1, 3, 2, 0, 0, 3, 1, 0, 3, 2, 1, 2, 0,\n",
              "       3, 2, 2, 3, 0, 0, 1, 3, 0, 1, 3, 3, 3, 2, 0, 0, 3, 0, 0, 1, 1, 1,\n",
              "       3, 2, 1, 3, 2, 3, 0, 3, 1, 3, 2, 3, 0, 3, 3, 0, 3, 0, 0, 0, 0, 3,\n",
              "       1, 1, 1, 2, 0, 0, 0, 0, 3, 0, 1, 1, 0, 0, 0, 3, 1, 3, 1, 1, 1, 3,\n",
              "       1, 0, 3, 1, 2, 0, 3, 0, 1, 0, 0, 3, 1, 0, 3, 2, 2, 0, 1, 3, 2, 0,\n",
              "       1, 0, 1, 1, 1, 0, 2, 2, 0, 1, 1, 1, 1, 1, 2, 1, 1, 1, 3, 0, 1, 0,\n",
              "       1])"
            ]
          },
          "metadata": {},
          "execution_count": 82
        }
      ],
      "source": [
        "le = LabelEncoder()\n",
        "y = le.fit_transform(y)\n",
        "y"
      ]
    },
    {
      "cell_type": "markdown",
      "metadata": {
        "id": "sqUI_O4duoE-"
      },
      "source": [
        "Kita telah melakukan pemisahan antara feature and target, selankutnya kita akan melakukan Train Test Split."
      ]
    },
    {
      "cell_type": "code",
      "execution_count": 25,
      "metadata": {
        "colab": {
          "base_uri": "https://localhost:8080/"
        },
        "id": "KaAfuDP1uoE-",
        "outputId": "19266b8e-a446-46fb-d413-422e884f1e02"
      },
      "outputs": [
        {
          "output_type": "stream",
          "name": "stdout",
          "text": [
            "X_train Shape: (561, 10)\n",
            "y_train shape: (561,)\n",
            "\n",
            "X_test Shape: (100, 10)\n",
            "y_test shape: (100,)\n"
          ]
        }
      ],
      "source": [
        "X_train, X_test, y_train, y_test = train_test_split(X,y, test_size=0.15, random_state=10)\n",
        "\n",
        "# Display dimensional\n",
        "print('X_train Shape:', X_train.shape)\n",
        "print('y_train shape:', y_train.shape)\n",
        "print('\\nX_test Shape:', X_test.shape)\n",
        "print('y_test shape:', y_test.shape)"
      ]
    },
    {
      "cell_type": "markdown",
      "metadata": {
        "id": "RqCYiQfuuoE_"
      },
      "source": [
        "Kita telah melakukan Train Test Split."
      ]
    },
    {
      "cell_type": "markdown",
      "metadata": {
        "id": "-rmU_EQ9uoE_"
      },
      "source": [
        "### Handling Outliers"
      ]
    },
    {
      "cell_type": "markdown",
      "metadata": {
        "id": "S3emW3NluoE_"
      },
      "source": [
        "Disini kita akan melakukan handling outliers."
      ]
    },
    {
      "cell_type": "code",
      "execution_count": 26,
      "metadata": {
        "id": "c56xlIPiuoFA"
      },
      "outputs": [],
      "source": [
        "def diag_outlier_plots(data):\n",
        "    for col in data :\n",
        "        plt.figure(figsize=(16,5))\n",
        "\n",
        "        #Histogram\n",
        "        plt.subplot(1,2,1)\n",
        "        sns.histplot(data[col], bins=30, linewidth=0.5)\n",
        "        plt.title('Histogram')\n",
        "\n",
        "        #boxplot\n",
        "        plt.subplot(1,2,2)\n",
        "        sns.boxplot(y=data[col], linewidth=0.5)\n",
        "        plt.title('Boxplot')\n",
        "        plt.show()"
      ]
    },
    {
      "cell_type": "code",
      "execution_count": 79,
      "metadata": {
        "colab": {
          "base_uri": "https://localhost:8080/",
          "height": 423
        },
        "id": "rdGK2KbouoFA",
        "outputId": "509e279c-41f6-4f2a-a60c-a8213195f3f6"
      },
      "outputs": [
        {
          "output_type": "execute_result",
          "data": {
            "text/plain": [
              "     Age\n",
              "191   34\n",
              "600   46\n",
              "524   58\n",
              "142   25\n",
              "303   35\n",
              "..   ...\n",
              "369   63\n",
              "320   37\n",
              "527   64\n",
              "125   20\n",
              "265   41\n",
              "\n",
              "[561 rows x 1 columns]"
            ],
            "text/html": [
              "\n",
              "  <div id=\"df-9ee1db06-cee0-4a4c-81cc-f58742e9e39f\">\n",
              "    <div class=\"colab-df-container\">\n",
              "      <div>\n",
              "<style scoped>\n",
              "    .dataframe tbody tr th:only-of-type {\n",
              "        vertical-align: middle;\n",
              "    }\n",
              "\n",
              "    .dataframe tbody tr th {\n",
              "        vertical-align: top;\n",
              "    }\n",
              "\n",
              "    .dataframe thead th {\n",
              "        text-align: right;\n",
              "    }\n",
              "</style>\n",
              "<table border=\"1\" class=\"dataframe\">\n",
              "  <thead>\n",
              "    <tr style=\"text-align: right;\">\n",
              "      <th></th>\n",
              "      <th>Age</th>\n",
              "    </tr>\n",
              "  </thead>\n",
              "  <tbody>\n",
              "    <tr>\n",
              "      <th>191</th>\n",
              "      <td>34</td>\n",
              "    </tr>\n",
              "    <tr>\n",
              "      <th>600</th>\n",
              "      <td>46</td>\n",
              "    </tr>\n",
              "    <tr>\n",
              "      <th>524</th>\n",
              "      <td>58</td>\n",
              "    </tr>\n",
              "    <tr>\n",
              "      <th>142</th>\n",
              "      <td>25</td>\n",
              "    </tr>\n",
              "    <tr>\n",
              "      <th>303</th>\n",
              "      <td>35</td>\n",
              "    </tr>\n",
              "    <tr>\n",
              "      <th>...</th>\n",
              "      <td>...</td>\n",
              "    </tr>\n",
              "    <tr>\n",
              "      <th>369</th>\n",
              "      <td>63</td>\n",
              "    </tr>\n",
              "    <tr>\n",
              "      <th>320</th>\n",
              "      <td>37</td>\n",
              "    </tr>\n",
              "    <tr>\n",
              "      <th>527</th>\n",
              "      <td>64</td>\n",
              "    </tr>\n",
              "    <tr>\n",
              "      <th>125</th>\n",
              "      <td>20</td>\n",
              "    </tr>\n",
              "    <tr>\n",
              "      <th>265</th>\n",
              "      <td>41</td>\n",
              "    </tr>\n",
              "  </tbody>\n",
              "</table>\n",
              "<p>561 rows × 1 columns</p>\n",
              "</div>\n",
              "      <button class=\"colab-df-convert\" onclick=\"convertToInteractive('df-9ee1db06-cee0-4a4c-81cc-f58742e9e39f')\"\n",
              "              title=\"Convert this dataframe to an interactive table.\"\n",
              "              style=\"display:none;\">\n",
              "        \n",
              "  <svg xmlns=\"http://www.w3.org/2000/svg\" height=\"24px\"viewBox=\"0 0 24 24\"\n",
              "       width=\"24px\">\n",
              "    <path d=\"M0 0h24v24H0V0z\" fill=\"none\"/>\n",
              "    <path d=\"M18.56 5.44l.94 2.06.94-2.06 2.06-.94-2.06-.94-.94-2.06-.94 2.06-2.06.94zm-11 1L8.5 8.5l.94-2.06 2.06-.94-2.06-.94L8.5 2.5l-.94 2.06-2.06.94zm10 10l.94 2.06.94-2.06 2.06-.94-2.06-.94-.94-2.06-.94 2.06-2.06.94z\"/><path d=\"M17.41 7.96l-1.37-1.37c-.4-.4-.92-.59-1.43-.59-.52 0-1.04.2-1.43.59L10.3 9.45l-7.72 7.72c-.78.78-.78 2.05 0 2.83L4 21.41c.39.39.9.59 1.41.59.51 0 1.02-.2 1.41-.59l7.78-7.78 2.81-2.81c.8-.78.8-2.07 0-2.86zM5.41 20L4 18.59l7.72-7.72 1.47 1.35L5.41 20z\"/>\n",
              "  </svg>\n",
              "      </button>\n",
              "      \n",
              "  <style>\n",
              "    .colab-df-container {\n",
              "      display:flex;\n",
              "      flex-wrap:wrap;\n",
              "      gap: 12px;\n",
              "    }\n",
              "\n",
              "    .colab-df-convert {\n",
              "      background-color: #E8F0FE;\n",
              "      border: none;\n",
              "      border-radius: 50%;\n",
              "      cursor: pointer;\n",
              "      display: none;\n",
              "      fill: #1967D2;\n",
              "      height: 32px;\n",
              "      padding: 0 0 0 0;\n",
              "      width: 32px;\n",
              "    }\n",
              "\n",
              "    .colab-df-convert:hover {\n",
              "      background-color: #E2EBFA;\n",
              "      box-shadow: 0px 1px 2px rgba(60, 64, 67, 0.3), 0px 1px 3px 1px rgba(60, 64, 67, 0.15);\n",
              "      fill: #174EA6;\n",
              "    }\n",
              "\n",
              "    [theme=dark] .colab-df-convert {\n",
              "      background-color: #3B4455;\n",
              "      fill: #D2E3FC;\n",
              "    }\n",
              "\n",
              "    [theme=dark] .colab-df-convert:hover {\n",
              "      background-color: #434B5C;\n",
              "      box-shadow: 0px 1px 3px 1px rgba(0, 0, 0, 0.15);\n",
              "      filter: drop-shadow(0px 1px 2px rgba(0, 0, 0, 0.3));\n",
              "      fill: #FFFFFF;\n",
              "    }\n",
              "  </style>\n",
              "\n",
              "      <script>\n",
              "        const buttonEl =\n",
              "          document.querySelector('#df-9ee1db06-cee0-4a4c-81cc-f58742e9e39f button.colab-df-convert');\n",
              "        buttonEl.style.display =\n",
              "          google.colab.kernel.accessAllowed ? 'block' : 'none';\n",
              "\n",
              "        async function convertToInteractive(key) {\n",
              "          const element = document.querySelector('#df-9ee1db06-cee0-4a4c-81cc-f58742e9e39f');\n",
              "          const dataTable =\n",
              "            await google.colab.kernel.invokeFunction('convertToInteractive',\n",
              "                                                     [key], {});\n",
              "          if (!dataTable) return;\n",
              "\n",
              "          const docLinkHtml = 'Like what you see? Visit the ' +\n",
              "            '<a target=\"_blank\" href=https://colab.research.google.com/notebooks/data_table.ipynb>data table notebook</a>'\n",
              "            + ' to learn more about interactive tables.';\n",
              "          element.innerHTML = '';\n",
              "          dataTable['output_type'] = 'display_data';\n",
              "          await google.colab.output.renderOutput(dataTable, element);\n",
              "          const docLink = document.createElement('div');\n",
              "          docLink.innerHTML = docLinkHtml;\n",
              "          element.appendChild(docLink);\n",
              "        }\n",
              "      </script>\n",
              "    </div>\n",
              "  </div>\n",
              "  "
            ]
          },
          "metadata": {},
          "execution_count": 79
        }
      ],
      "source": [
        "cek_ouliers = X_train.select_dtypes(include=np.number)\n",
        "cek_ouliers"
      ]
    },
    {
      "cell_type": "code",
      "execution_count": 28,
      "metadata": {
        "colab": {
          "base_uri": "https://localhost:8080/",
          "height": 693
        },
        "id": "Sph4gV1QuoFA",
        "outputId": "a524bdba-2f83-4d06-fc3c-61eb438c4941"
      },
      "outputs": [
        {
          "output_type": "display_data",
          "data": {
            "text/plain": [
              "<Figure size 1152x360 with 2 Axes>"
            ],
            "image/png": "[encoded data removed]"
          },
          "metadata": {}
        },
        {
          "output_type": "display_data",
          "data": {
            "text/plain": [
              "<Figure size 1152x360 with 2 Axes>"
            ],
            "image/png": "[encoded data removed]"
          },
          "metadata": {}
        }
      ],
      "source": [
        "diag_outlier_plots(cek_ouliers)"
      ]
    },
    {
      "cell_type": "markdown",
      "metadata": {
        "id": "smDdTN82uoFB"
      },
      "source": [
        "Berdasarkan hasil diatas kita telah melihat bahwa tidak ada outliers dalam data kita."
      ]
    },
    {
      "cell_type": "markdown",
      "metadata": {
        "id": "N5bZI6imuoFB"
      },
      "source": [
        "## Handling Missing Value"
      ]
    },
    {
      "cell_type": "code",
      "execution_count": 91,
      "metadata": {
        "colab": {
          "base_uri": "https://localhost:8080/"
        },
        "id": "gJDNzRZFuoFB",
        "outputId": "deb3793e-3746-45a9-a2c5-212c5710ecc4"
      },
      "outputs": [
        {
          "output_type": "execute_result",
          "data": {
            "text/plain": [
              "User_ID                      0\n",
              "Gender                       0\n",
              "Age                          0\n",
              "Marital_Status               0\n",
              "Website_Activity             0\n",
              "Browsed_Electronics_12Mo     0\n",
              "Bought_Electronics_12Mo      0\n",
              "Bought_Digital_Media_18Mo    0\n",
              "Bought_Digital_Books         0\n",
              "Payment_Method               0\n",
              "eReader_Adoption             0\n",
              "dtype: int64"
            ]
          },
          "metadata": {},
          "execution_count": 91
        }
      ],
      "source": [
        "data_train.isnull().sum()"
      ]
    },
    {
      "cell_type": "markdown",
      "metadata": {
        "id": "GWbqj-veuoFC"
      },
      "source": [
        "## Feature Selection"
      ]
    },
    {
      "cell_type": "markdown",
      "metadata": {
        "id": "9iiZmF5QuoFC"
      },
      "source": [
        "Pada bagian ini kita akan menentukan kolom yang akan dijadikan feature model."
      ]
    },
    {
      "cell_type": "markdown",
      "metadata": {
        "id": "uRnDh6PHuoFC"
      },
      "source": [
        "Kita akan melihat korelasi di setiap feature ke target, sebelum itu kita akan melakukan penggabungan antara X_train dan y_train."
      ]
    },
    {
      "cell_type": "code",
      "execution_count": 77,
      "metadata": {
        "colab": {
          "base_uri": "https://localhost:8080/",
          "height": 423
        },
        "id": "6zEk-rYbuoFD",
        "outputId": "a9f056cd-a426-4920-cc7f-dbfe5b564ebe"
      },
      "outputs": [
        {
          "output_type": "execute_result",
          "data": {
            "text/plain": [
              "     eReader_Adoption\n",
              "0                   3\n",
              "1                   2\n",
              "2                   0\n",
              "3                   0\n",
              "4                   3\n",
              "..                ...\n",
              "656                 3\n",
              "657                 0\n",
              "658                 1\n",
              "659                 0\n",
              "660                 1\n",
              "\n",
              "[661 rows x 1 columns]"
            ],
            "text/html": [
              "\n",
              "  <div id=\"df-c48bdc07-2ac4-45ba-8121-2aa1052347a2\">\n",
              "    <div class=\"colab-df-container\">\n",
              "      <div>\n",
              "<style scoped>\n",
              "    .dataframe tbody tr th:only-of-type {\n",
              "        vertical-align: middle;\n",
              "    }\n",
              "\n",
              "    .dataframe tbody tr th {\n",
              "        vertical-align: top;\n",
              "    }\n",
              "\n",
              "    .dataframe thead th {\n",
              "        text-align: right;\n",
              "    }\n",
              "</style>\n",
              "<table border=\"1\" class=\"dataframe\">\n",
              "  <thead>\n",
              "    <tr style=\"text-align: right;\">\n",
              "      <th></th>\n",
              "      <th>eReader_Adoption</th>\n",
              "    </tr>\n",
              "  </thead>\n",
              "  <tbody>\n",
              "    <tr>\n",
              "      <th>0</th>\n",
              "      <td>3</td>\n",
              "    </tr>\n",
              "    <tr>\n",
              "      <th>1</th>\n",
              "      <td>2</td>\n",
              "    </tr>\n",
              "    <tr>\n",
              "      <th>2</th>\n",
              "      <td>0</td>\n",
              "    </tr>\n",
              "    <tr>\n",
              "      <th>3</th>\n",
              "      <td>0</td>\n",
              "    </tr>\n",
              "    <tr>\n",
              "      <th>4</th>\n",
              "      <td>3</td>\n",
              "    </tr>\n",
              "    <tr>\n",
              "      <th>...</th>\n",
              "      <td>...</td>\n",
              "    </tr>\n",
              "    <tr>\n",
              "      <th>656</th>\n",
              "      <td>3</td>\n",
              "    </tr>\n",
              "    <tr>\n",
              "      <th>657</th>\n",
              "      <td>0</td>\n",
              "    </tr>\n",
              "    <tr>\n",
              "      <th>658</th>\n",
              "      <td>1</td>\n",
              "    </tr>\n",
              "    <tr>\n",
              "      <th>659</th>\n",
              "      <td>0</td>\n",
              "    </tr>\n",
              "    <tr>\n",
              "      <th>660</th>\n",
              "      <td>1</td>\n",
              "    </tr>\n",
              "  </tbody>\n",
              "</table>\n",
              "<p>661 rows × 1 columns</p>\n",
              "</div>\n",
              "      <button class=\"colab-df-convert\" onclick=\"convertToInteractive('df-c48bdc07-2ac4-45ba-8121-2aa1052347a2')\"\n",
              "              title=\"Convert this dataframe to an interactive table.\"\n",
              "              style=\"display:none;\">\n",
              "        \n",
              "  <svg xmlns=\"http://www.w3.org/2000/svg\" height=\"24px\"viewBox=\"0 0 24 24\"\n",
              "       width=\"24px\">\n",
              "    <path d=\"M0 0h24v24H0V0z\" fill=\"none\"/>\n",
              "    <path d=\"M18.56 5.44l.94 2.06.94-2.06 2.06-.94-2.06-.94-.94-2.06-.94 2.06-2.06.94zm-11 1L8.5 8.5l.94-2.06 2.06-.94-2.06-.94L8.5 2.5l-.94 2.06-2.06.94zm10 10l.94 2.06.94-2.06 2.06-.94-2.06-.94-.94-2.06-.94 2.06-2.06.94z\"/><path d=\"M17.41 7.96l-1.37-1.37c-.4-.4-.92-.59-1.43-.59-.52 0-1.04.2-1.43.59L10.3 9.45l-7.72 7.72c-.78.78-.78 2.05 0 2.83L4 21.41c.39.39.9.59 1.41.59.51 0 1.02-.2 1.41-.59l7.78-7.78 2.81-2.81c.8-.78.8-2.07 0-2.86zM5.41 20L4 18.59l7.72-7.72 1.47 1.35L5.41 20z\"/>\n",
              "  </svg>\n",
              "      </button>\n",
              "      \n",
              "  <style>\n",
              "    .colab-df-container {\n",
              "      display:flex;\n",
              "      flex-wrap:wrap;\n",
              "      gap: 12px;\n",
              "    }\n",
              "\n",
              "    .colab-df-convert {\n",
              "      background-color: #E8F0FE;\n",
              "      border: none;\n",
              "      border-radius: 50%;\n",
              "      cursor: pointer;\n",
              "      display: none;\n",
              "      fill: #1967D2;\n",
              "      height: 32px;\n",
              "      padding: 0 0 0 0;\n",
              "      width: 32px;\n",
              "    }\n",
              "\n",
              "    .colab-df-convert:hover {\n",
              "      background-color: #E2EBFA;\n",
              "      box-shadow: 0px 1px 2px rgba(60, 64, 67, 0.3), 0px 1px 3px 1px rgba(60, 64, 67, 0.15);\n",
              "      fill: #174EA6;\n",
              "    }\n",
              "\n",
              "    [theme=dark] .colab-df-convert {\n",
              "      background-color: #3B4455;\n",
              "      fill: #D2E3FC;\n",
              "    }\n",
              "\n",
              "    [theme=dark] .colab-df-convert:hover {\n",
              "      background-color: #434B5C;\n",
              "      box-shadow: 0px 1px 3px 1px rgba(0, 0, 0, 0.15);\n",
              "      filter: drop-shadow(0px 1px 2px rgba(0, 0, 0, 0.3));\n",
              "      fill: #FFFFFF;\n",
              "    }\n",
              "  </style>\n",
              "\n",
              "      <script>\n",
              "        const buttonEl =\n",
              "          document.querySelector('#df-c48bdc07-2ac4-45ba-8121-2aa1052347a2 button.colab-df-convert');\n",
              "        buttonEl.style.display =\n",
              "          google.colab.kernel.accessAllowed ? 'block' : 'none';\n",
              "\n",
              "        async function convertToInteractive(key) {\n",
              "          const element = document.querySelector('#df-c48bdc07-2ac4-45ba-8121-2aa1052347a2');\n",
              "          const dataTable =\n",
              "            await google.colab.kernel.invokeFunction('convertToInteractive',\n",
              "                                                     [key], {});\n",
              "          if (!dataTable) return;\n",
              "\n",
              "          const docLinkHtml = 'Like what you see? Visit the ' +\n",
              "            '<a target=\"_blank\" href=https://colab.research.google.com/notebooks/data_table.ipynb>data table notebook</a>'\n",
              "            + ' to learn more about interactive tables.';\n",
              "          element.innerHTML = '';\n",
              "          dataTable['output_type'] = 'display_data';\n",
              "          await google.colab.output.renderOutput(dataTable, element);\n",
              "          const docLink = document.createElement('div');\n",
              "          docLink.innerHTML = docLinkHtml;\n",
              "          element.appendChild(docLink);\n",
              "        }\n",
              "      </script>\n",
              "    </div>\n",
              "  </div>\n",
              "  "
            ]
          },
          "metadata": {},
          "execution_count": 77
        }
      ],
      "source": [
        "# Membuat Data Frame  untuk target\n",
        "\n",
        "y_df = pd.DataFrame(y, columns=['eReader_Adoption'])\n",
        "y_df"
      ]
    },
    {
      "cell_type": "markdown",
      "metadata": {
        "id": "bc5zj-HLuoFD"
      },
      "source": [
        "setelah membuat data frame untuk y_train,selanjutnya kita akan melakukan concat terhadap X_train dan y_train."
      ]
    },
    {
      "cell_type": "code",
      "execution_count": 76,
      "metadata": {
        "colab": {
          "base_uri": "https://localhost:8080/",
          "height": 487
        },
        "id": "p1WnYPjWuoFE",
        "outputId": "706d04c6-b654-4435-97d2-4ad9f142b1ad"
      },
      "outputs": [
        {
          "output_type": "execute_result",
          "data": {
            "text/plain": [
              "    Gender   Age Marital_Status Website_Activity Browsed_Electronics_12Mo  \\\n",
              "0        M  61.0              M           Seldom                      Yes   \n",
              "1        M  27.0              M          Regular                      Yes   \n",
              "2        F  29.0              M           Seldom                      Yes   \n",
              "3        M  49.0              M           Seldom                      Yes   \n",
              "4        M  29.0              S           Seldom                      Yes   \n",
              "..     ...   ...            ...              ...                      ...   \n",
              "656      M  48.0              S         Frequent                      Yes   \n",
              "657      F  32.0              M          Regular                      Yes   \n",
              "658      F  26.0              M           Seldom                      Yes   \n",
              "659      F  55.0              S           Seldom                      Yes   \n",
              "660      M  57.0              S          Regular                       No   \n",
              "\n",
              "    Bought_Electronics_12Mo Bought_Digital_Media_18Mo Bought_Digital_Books  \\\n",
              "0                       Yes                       Yes                   No   \n",
              "1                        No                       Yes                   No   \n",
              "2                       Yes                       Yes                  Yes   \n",
              "3                       Yes                       Yes                  Yes   \n",
              "4                       Yes                       Yes                   No   \n",
              "..                      ...                       ...                  ...   \n",
              "656                     Yes                       Yes                  Yes   \n",
              "657                      No                       Yes                   No   \n",
              "658                      No                       Yes                  Yes   \n",
              "659                      No                       Yes                   No   \n",
              "660                     Yes                       Yes                  Yes   \n",
              "\n",
              "      Payment_Method  eReader_Adoption  \n",
              "0      Bank Transfer                 3  \n",
              "1      Bank Transfer                 2  \n",
              "2      Bank Transfer                 0  \n",
              "3    Website Account                 0  \n",
              "4    Website Account                 3  \n",
              "..               ...               ...  \n",
              "656  Website Account                 3  \n",
              "657  Website Account                 0  \n",
              "658  Website Account                 1  \n",
              "659  Monthly Billing                 0  \n",
              "660    Bank Transfer                 1  \n",
              "\n",
              "[661 rows x 10 columns]"
            ],
            "text/html": [
              "\n",
              "  <div id=\"df-3996e08c-19db-425c-bada-28b06facb5f8\">\n",
              "    <div class=\"colab-df-container\">\n",
              "      <div>\n",
              "<style scoped>\n",
              "    .dataframe tbody tr th:only-of-type {\n",
              "        vertical-align: middle;\n",
              "    }\n",
              "\n",
              "    .dataframe tbody tr th {\n",
              "        vertical-align: top;\n",
              "    }\n",
              "\n",
              "    .dataframe thead th {\n",
              "        text-align: right;\n",
              "    }\n",
              "</style>\n",
              "<table border=\"1\" class=\"dataframe\">\n",
              "  <thead>\n",
              "    <tr style=\"text-align: right;\">\n",
              "      <th></th>\n",
              "      <th>Gender</th>\n",
              "      <th>Age</th>\n",
              "      <th>Marital_Status</th>\n",
              "      <th>Website_Activity</th>\n",
              "      <th>Browsed_Electronics_12Mo</th>\n",
              "      <th>Bought_Electronics_12Mo</th>\n",
              "      <th>Bought_Digital_Media_18Mo</th>\n",
              "      <th>Bought_Digital_Books</th>\n",
              "      <th>Payment_Method</th>\n",
              "      <th>eReader_Adoption</th>\n",
              "    </tr>\n",
              "  </thead>\n",
              "  <tbody>\n",
              "    <tr>\n",
              "      <th>0</th>\n",
              "      <td>M</td>\n",
              "      <td>61.0</td>\n",
              "      <td>M</td>\n",
              "      <td>Seldom</td>\n",
              "      <td>Yes</td>\n",
              "      <td>Yes</td>\n",
              "      <td>Yes</td>\n",
              "      <td>No</td>\n",
              "      <td>Bank Transfer</td>\n",
              "      <td>3</td>\n",
              "    </tr>\n",
              "    <tr>\n",
              "      <th>1</th>\n",
              "      <td>M</td>\n",
              "      <td>27.0</td>\n",
              "      <td>M</td>\n",
              "      <td>Regular</td>\n",
              "      <td>Yes</td>\n",
              "      <td>No</td>\n",
              "      <td>Yes</td>\n",
              "      <td>No</td>\n",
              "      <td>Bank Transfer</td>\n",
              "      <td>2</td>\n",
              "    </tr>\n",
              "    <tr>\n",
              "      <th>2</th>\n",
              "      <td>F</td>\n",
              "      <td>29.0</td>\n",
              "      <td>M</td>\n",
              "      <td>Seldom</td>\n",
              "      <td>Yes</td>\n",
              "      <td>Yes</td>\n",
              "      <td>Yes</td>\n",
              "      <td>Yes</td>\n",
              "      <td>Bank Transfer</td>\n",
              "      <td>0</td>\n",
              "    </tr>\n",
              "    <tr>\n",
              "      <th>3</th>\n",
              "      <td>M</td>\n",
              "      <td>49.0</td>\n",
              "      <td>M</td>\n",
              "      <td>Seldom</td>\n",
              "      <td>Yes</td>\n",
              "      <td>Yes</td>\n",
              "      <td>Yes</td>\n",
              "      <td>Yes</td>\n",
              "      <td>Website Account</td>\n",
              "      <td>0</td>\n",
              "    </tr>\n",
              "    <tr>\n",
              "      <th>4</th>\n",
              "      <td>M</td>\n",
              "      <td>29.0</td>\n",
              "      <td>S</td>\n",
              "      <td>Seldom</td>\n",
              "      <td>Yes</td>\n",
              "      <td>Yes</td>\n",
              "      <td>Yes</td>\n",
              "      <td>No</td>\n",
              "      <td>Website Account</td>\n",
              "      <td>3</td>\n",
              "    </tr>\n",
              "    <tr>\n",
              "      <th>...</th>\n",
              "      <td>...</td>\n",
              "      <td>...</td>\n",
              "      <td>...</td>\n",
              "      <td>...</td>\n",
              "      <td>...</td>\n",
              "      <td>...</td>\n",
              "      <td>...</td>\n",
              "      <td>...</td>\n",
              "      <td>...</td>\n",
              "      <td>...</td>\n",
              "    </tr>\n",
              "    <tr>\n",
              "      <th>656</th>\n",
              "      <td>M</td>\n",
              "      <td>48.0</td>\n",
              "      <td>S</td>\n",
              "      <td>Frequent</td>\n",
              "      <td>Yes</td>\n",
              "      <td>Yes</td>\n",
              "      <td>Yes</td>\n",
              "      <td>Yes</td>\n",
              "      <td>Website Account</td>\n",
              "      <td>3</td>\n",
              "    </tr>\n",
              "    <tr>\n",
              "      <th>657</th>\n",
              "      <td>F</td>\n",
              "      <td>32.0</td>\n",
              "      <td>M</td>\n",
              "      <td>Regular</td>\n",
              "      <td>Yes</td>\n",
              "      <td>No</td>\n",
              "      <td>Yes</td>\n",
              "      <td>No</td>\n",
              "      <td>Website Account</td>\n",
              "      <td>0</td>\n",
              "    </tr>\n",
              "    <tr>\n",
              "      <th>658</th>\n",
              "      <td>F</td>\n",
              "      <td>26.0</td>\n",
              "      <td>M</td>\n",
              "      <td>Seldom</td>\n",
              "      <td>Yes</td>\n",
              "      <td>No</td>\n",
              "      <td>Yes</td>\n",
              "      <td>Yes</td>\n",
              "      <td>Website Account</td>\n",
              "      <td>1</td>\n",
              "    </tr>\n",
              "    <tr>\n",
              "      <th>659</th>\n",
              "      <td>F</td>\n",
              "      <td>55.0</td>\n",
              "      <td>S</td>\n",
              "      <td>Seldom</td>\n",
              "      <td>Yes</td>\n",
              "      <td>No</td>\n",
              "      <td>Yes</td>\n",
              "      <td>No</td>\n",
              "      <td>Monthly Billing</td>\n",
              "      <td>0</td>\n",
              "    </tr>\n",
              "    <tr>\n",
              "      <th>660</th>\n",
              "      <td>M</td>\n",
              "      <td>57.0</td>\n",
              "      <td>S</td>\n",
              "      <td>Regular</td>\n",
              "      <td>No</td>\n",
              "      <td>Yes</td>\n",
              "      <td>Yes</td>\n",
              "      <td>Yes</td>\n",
              "      <td>Bank Transfer</td>\n",
              "      <td>1</td>\n",
              "    </tr>\n",
              "  </tbody>\n",
              "</table>\n",
              "<p>661 rows × 10 columns</p>\n",
              "</div>\n",
              "      <button class=\"colab-df-convert\" onclick=\"convertToInteractive('df-3996e08c-19db-425c-bada-28b06facb5f8')\"\n",
              "              title=\"Convert this dataframe to an interactive table.\"\n",
              "              style=\"display:none;\">\n",
              "        \n",
              "  <svg xmlns=\"http://www.w3.org/2000/svg\" height=\"24px\"viewBox=\"0 0 24 24\"\n",
              "       width=\"24px\">\n",
              "    <path d=\"M0 0h24v24H0V0z\" fill=\"none\"/>\n",
              "    <path d=\"M18.56 5.44l.94 2.06.94-2.06 2.06-.94-2.06-.94-.94-2.06-.94 2.06-2.06.94zm-11 1L8.5 8.5l.94-2.06 2.06-.94-2.06-.94L8.5 2.5l-.94 2.06-2.06.94zm10 10l.94 2.06.94-2.06 2.06-.94-2.06-.94-.94-2.06-.94 2.06-2.06.94z\"/><path d=\"M17.41 7.96l-1.37-1.37c-.4-.4-.92-.59-1.43-.59-.52 0-1.04.2-1.43.59L10.3 9.45l-7.72 7.72c-.78.78-.78 2.05 0 2.83L4 21.41c.39.39.9.59 1.41.59.51 0 1.02-.2 1.41-.59l7.78-7.78 2.81-2.81c.8-.78.8-2.07 0-2.86zM5.41 20L4 18.59l7.72-7.72 1.47 1.35L5.41 20z\"/>\n",
              "  </svg>\n",
              "      </button>\n",
              "      \n",
              "  <style>\n",
              "    .colab-df-container {\n",
              "      display:flex;\n",
              "      flex-wrap:wrap;\n",
              "      gap: 12px;\n",
              "    }\n",
              "\n",
              "    .colab-df-convert {\n",
              "      background-color: #E8F0FE;\n",
              "      border: none;\n",
              "      border-radius: 50%;\n",
              "      cursor: pointer;\n",
              "      display: none;\n",
              "      fill: #1967D2;\n",
              "      height: 32px;\n",
              "      padding: 0 0 0 0;\n",
              "      width: 32px;\n",
              "    }\n",
              "\n",
              "    .colab-df-convert:hover {\n",
              "      background-color: #E2EBFA;\n",
              "      box-shadow: 0px 1px 2px rgba(60, 64, 67, 0.3), 0px 1px 3px 1px rgba(60, 64, 67, 0.15);\n",
              "      fill: #174EA6;\n",
              "    }\n",
              "\n",
              "    [theme=dark] .colab-df-convert {\n",
              "      background-color: #3B4455;\n",
              "      fill: #D2E3FC;\n",
              "    }\n",
              "\n",
              "    [theme=dark] .colab-df-convert:hover {\n",
              "      background-color: #434B5C;\n",
              "      box-shadow: 0px 1px 3px 1px rgba(0, 0, 0, 0.15);\n",
              "      filter: drop-shadow(0px 1px 2px rgba(0, 0, 0, 0.3));\n",
              "      fill: #FFFFFF;\n",
              "    }\n",
              "  </style>\n",
              "\n",
              "      <script>\n",
              "        const buttonEl =\n",
              "          document.querySelector('#df-3996e08c-19db-425c-bada-28b06facb5f8 button.colab-df-convert');\n",
              "        buttonEl.style.display =\n",
              "          google.colab.kernel.accessAllowed ? 'block' : 'none';\n",
              "\n",
              "        async function convertToInteractive(key) {\n",
              "          const element = document.querySelector('#df-3996e08c-19db-425c-bada-28b06facb5f8');\n",
              "          const dataTable =\n",
              "            await google.colab.kernel.invokeFunction('convertToInteractive',\n",
              "                                                     [key], {});\n",
              "          if (!dataTable) return;\n",
              "\n",
              "          const docLinkHtml = 'Like what you see? Visit the ' +\n",
              "            '<a target=\"_blank\" href=https://colab.research.google.com/notebooks/data_table.ipynb>data table notebook</a>'\n",
              "            + ' to learn more about interactive tables.';\n",
              "          element.innerHTML = '';\n",
              "          dataTable['output_type'] = 'display_data';\n",
              "          await google.colab.output.renderOutput(dataTable, element);\n",
              "          const docLink = document.createElement('div');\n",
              "          docLink.innerHTML = docLinkHtml;\n",
              "          element.appendChild(docLink);\n",
              "        }\n",
              "      </script>\n",
              "    </div>\n",
              "  </div>\n",
              "  "
            ]
          },
          "metadata": {},
          "execution_count": 76
        }
      ],
      "source": [
        "# Concat\n",
        "\n",
        "data_concat = pd.concat([X_train, y_df], axis=1)\n",
        "data_concat"
      ]
    },
    {
      "cell_type": "code",
      "execution_count": 32,
      "metadata": {
        "colab": {
          "base_uri": "https://localhost:8080/",
          "height": 345
        },
        "id": "zNL4VklCuoFE",
        "outputId": "0a017729-ef47-4edd-b974-09e31571c8bd"
      },
      "outputs": [
        {
          "output_type": "execute_result",
          "data": {
            "text/plain": [
              "<matplotlib.axes._subplots.AxesSubplot at 0x7f5849534f10>"
            ]
          },
          "metadata": {},
          "execution_count": 32
        },
        {
          "output_type": "display_data",
          "data": {
            "text/plain": [
              "<Figure size 360x360 with 2 Axes>"
            ],
            "image/png": "[encoded data removed]"
          },
          "metadata": {}
        }
      ],
      "source": [
        "# Heatmap\n",
        "\n",
        "sns.set(rc={'figure.figsize':(5,5)})\n",
        "sns.heatmap(data_concat.corr(), annot=True)"
      ]
    },
    {
      "cell_type": "markdown",
      "metadata": {
        "id": "rReluQNnuoFF"
      },
      "source": [
        "**Berdasarkan** hasil heatmap diatas, kita mengetahui bahwa kolom User ID tidak mempunyai korelasi yang baik terhadap target. Dalam kasus ini saya akan membuang kolom User ID dalam feature model."
      ]
    },
    {
      "cell_type": "code",
      "execution_count": 33,
      "metadata": {
        "id": "Gqs5XvCNuoFF"
      },
      "outputs": [],
      "source": [
        "X_train.drop('User_ID', inplace=True, axis=1)"
      ]
    },
    {
      "cell_type": "code",
      "execution_count": 34,
      "metadata": {
        "id": "dVola1p_uoFF"
      },
      "outputs": [],
      "source": [
        "X_test.drop('User_ID', inplace=True, axis=1)"
      ]
    },
    {
      "cell_type": "markdown",
      "metadata": {
        "id": "-IdMcYbIuoFG"
      },
      "source": [
        "Kita telah selesai melakukan Feature Selection"
      ]
    },
    {
      "cell_type": "markdown",
      "metadata": {
        "id": "iRdL2ow2uoFG"
      },
      "source": [
        "## Generate Pipeline"
      ]
    },
    {
      "cell_type": "markdown",
      "metadata": {
        "id": "USnvnxlDuoFG"
      },
      "source": [
        "Numerical columns"
      ]
    },
    {
      "cell_type": "code",
      "execution_count": 75,
      "metadata": {
        "colab": {
          "base_uri": "https://localhost:8080/"
        },
        "id": "Q6Xuo6-2uoFG",
        "outputId": "3dd82990-7c81-41ba-c0a5-2fc23929fc1c"
      },
      "outputs": [
        {
          "output_type": "execute_result",
          "data": {
            "text/plain": [
              "StandardScaler()"
            ]
          },
          "metadata": {},
          "execution_count": 75
        }
      ],
      "source": [
        "# Numeric Skewed\n",
        "\n",
        "numeric = ['Age']\n",
        "numeric_trs = StandardScaler()"
      ]
    },
    {
      "cell_type": "markdown",
      "metadata": {
        "id": "VeWJ3sAxuoFH"
      },
      "source": [
        "Categorical columns"
      ]
    },
    {
      "cell_type": "code",
      "execution_count": 36,
      "metadata": {
        "colab": {
          "base_uri": "https://localhost:8080/",
          "height": 206
        },
        "id": "0IAA0tztuoFH",
        "outputId": "239f246b-52d1-4c3f-ad86-214a79e3530f"
      },
      "outputs": [
        {
          "output_type": "execute_result",
          "data": {
            "text/plain": [
              "    Gender Marital_Status Website_Activity Browsed_Electronics_12Mo  \\\n",
              "191      M              M           Seldom                      Yes   \n",
              "600      M              M           Seldom                      Yes   \n",
              "524      M              M           Seldom                      Yes   \n",
              "142      M              S          Regular                      Yes   \n",
              "303      F              M           Seldom                      Yes   \n",
              "\n",
              "    Bought_Electronics_12Mo Bought_Digital_Media_18Mo Bought_Digital_Books  \\\n",
              "191                      No                       Yes                  Yes   \n",
              "600                     Yes                       Yes                  Yes   \n",
              "524                      No                       Yes                   No   \n",
              "142                     Yes                       Yes                   No   \n",
              "303                      No                       Yes                  Yes   \n",
              "\n",
              "      Payment_Method  \n",
              "191  Website Account  \n",
              "600  Monthly Billing  \n",
              "524      Credit Card  \n",
              "142  Website Account  \n",
              "303  Monthly Billing  "
            ],
            "text/html": [
              "\n",
              "  <div id=\"df-3919849b-b29e-42a4-83cd-88a1b5c29601\">\n",
              "    <div class=\"colab-df-container\">\n",
              "      <div>\n",
              "<style scoped>\n",
              "    .dataframe tbody tr th:only-of-type {\n",
              "        vertical-align: middle;\n",
              "    }\n",
              "\n",
              "    .dataframe tbody tr th {\n",
              "        vertical-align: top;\n",
              "    }\n",
              "\n",
              "    .dataframe thead th {\n",
              "        text-align: right;\n",
              "    }\n",
              "</style>\n",
              "<table border=\"1\" class=\"dataframe\">\n",
              "  <thead>\n",
              "    <tr style=\"text-align: right;\">\n",
              "      <th></th>\n",
              "      <th>Gender</th>\n",
              "      <th>Marital_Status</th>\n",
              "      <th>Website_Activity</th>\n",
              "      <th>Browsed_Electronics_12Mo</th>\n",
              "      <th>Bought_Electronics_12Mo</th>\n",
              "      <th>Bought_Digital_Media_18Mo</th>\n",
              "      <th>Bought_Digital_Books</th>\n",
              "      <th>Payment_Method</th>\n",
              "    </tr>\n",
              "  </thead>\n",
              "  <tbody>\n",
              "    <tr>\n",
              "      <th>191</th>\n",
              "      <td>M</td>\n",
              "      <td>M</td>\n",
              "      <td>Seldom</td>\n",
              "      <td>Yes</td>\n",
              "      <td>No</td>\n",
              "      <td>Yes</td>\n",
              "      <td>Yes</td>\n",
              "      <td>Website Account</td>\n",
              "    </tr>\n",
              "    <tr>\n",
              "      <th>600</th>\n",
              "      <td>M</td>\n",
              "      <td>M</td>\n",
              "      <td>Seldom</td>\n",
              "      <td>Yes</td>\n",
              "      <td>Yes</td>\n",
              "      <td>Yes</td>\n",
              "      <td>Yes</td>\n",
              "      <td>Monthly Billing</td>\n",
              "    </tr>\n",
              "    <tr>\n",
              "      <th>524</th>\n",
              "      <td>M</td>\n",
              "      <td>M</td>\n",
              "      <td>Seldom</td>\n",
              "      <td>Yes</td>\n",
              "      <td>No</td>\n",
              "      <td>Yes</td>\n",
              "      <td>No</td>\n",
              "      <td>Credit Card</td>\n",
              "    </tr>\n",
              "    <tr>\n",
              "      <th>142</th>\n",
              "      <td>M</td>\n",
              "      <td>S</td>\n",
              "      <td>Regular</td>\n",
              "      <td>Yes</td>\n",
              "      <td>Yes</td>\n",
              "      <td>Yes</td>\n",
              "      <td>No</td>\n",
              "      <td>Website Account</td>\n",
              "    </tr>\n",
              "    <tr>\n",
              "      <th>303</th>\n",
              "      <td>F</td>\n",
              "      <td>M</td>\n",
              "      <td>Seldom</td>\n",
              "      <td>Yes</td>\n",
              "      <td>No</td>\n",
              "      <td>Yes</td>\n",
              "      <td>Yes</td>\n",
              "      <td>Monthly Billing</td>\n",
              "    </tr>\n",
              "  </tbody>\n",
              "</table>\n",
              "</div>\n",
              "      <button class=\"colab-df-convert\" onclick=\"convertToInteractive('df-3919849b-b29e-42a4-83cd-88a1b5c29601')\"\n",
              "              title=\"Convert this dataframe to an interactive table.\"\n",
              "              style=\"display:none;\">\n",
              "        \n",
              "  <svg xmlns=\"http://www.w3.org/2000/svg\" height=\"24px\"viewBox=\"0 0 24 24\"\n",
              "       width=\"24px\">\n",
              "    <path d=\"M0 0h24v24H0V0z\" fill=\"none\"/>\n",
              "    <path d=\"M18.56 5.44l.94 2.06.94-2.06 2.06-.94-2.06-.94-.94-2.06-.94 2.06-2.06.94zm-11 1L8.5 8.5l.94-2.06 2.06-.94-2.06-.94L8.5 2.5l-.94 2.06-2.06.94zm10 10l.94 2.06.94-2.06 2.06-.94-2.06-.94-.94-2.06-.94 2.06-2.06.94z\"/><path d=\"M17.41 7.96l-1.37-1.37c-.4-.4-.92-.59-1.43-.59-.52 0-1.04.2-1.43.59L10.3 9.45l-7.72 7.72c-.78.78-.78 2.05 0 2.83L4 21.41c.39.39.9.59 1.41.59.51 0 1.02-.2 1.41-.59l7.78-7.78 2.81-2.81c.8-.78.8-2.07 0-2.86zM5.41 20L4 18.59l7.72-7.72 1.47 1.35L5.41 20z\"/>\n",
              "  </svg>\n",
              "      </button>\n",
              "      \n",
              "  <style>\n",
              "    .colab-df-container {\n",
              "      display:flex;\n",
              "      flex-wrap:wrap;\n",
              "      gap: 12px;\n",
              "    }\n",
              "\n",
              "    .colab-df-convert {\n",
              "      background-color: #E8F0FE;\n",
              "      border: none;\n",
              "      border-radius: 50%;\n",
              "      cursor: pointer;\n",
              "      display: none;\n",
              "      fill: #1967D2;\n",
              "      height: 32px;\n",
              "      padding: 0 0 0 0;\n",
              "      width: 32px;\n",
              "    }\n",
              "\n",
              "    .colab-df-convert:hover {\n",
              "      background-color: #E2EBFA;\n",
              "      box-shadow: 0px 1px 2px rgba(60, 64, 67, 0.3), 0px 1px 3px 1px rgba(60, 64, 67, 0.15);\n",
              "      fill: #174EA6;\n",
              "    }\n",
              "\n",
              "    [theme=dark] .colab-df-convert {\n",
              "      background-color: #3B4455;\n",
              "      fill: #D2E3FC;\n",
              "    }\n",
              "\n",
              "    [theme=dark] .colab-df-convert:hover {\n",
              "      background-color: #434B5C;\n",
              "      box-shadow: 0px 1px 3px 1px rgba(0, 0, 0, 0.15);\n",
              "      filter: drop-shadow(0px 1px 2px rgba(0, 0, 0, 0.3));\n",
              "      fill: #FFFFFF;\n",
              "    }\n",
              "  </style>\n",
              "\n",
              "      <script>\n",
              "        const buttonEl =\n",
              "          document.querySelector('#df-3919849b-b29e-42a4-83cd-88a1b5c29601 button.colab-df-convert');\n",
              "        buttonEl.style.display =\n",
              "          google.colab.kernel.accessAllowed ? 'block' : 'none';\n",
              "\n",
              "        async function convertToInteractive(key) {\n",
              "          const element = document.querySelector('#df-3919849b-b29e-42a4-83cd-88a1b5c29601');\n",
              "          const dataTable =\n",
              "            await google.colab.kernel.invokeFunction('convertToInteractive',\n",
              "                                                     [key], {});\n",
              "          if (!dataTable) return;\n",
              "\n",
              "          const docLinkHtml = 'Like what you see? Visit the ' +\n",
              "            '<a target=\"_blank\" href=https://colab.research.google.com/notebooks/data_table.ipynb>data table notebook</a>'\n",
              "            + ' to learn more about interactive tables.';\n",
              "          element.innerHTML = '';\n",
              "          dataTable['output_type'] = 'display_data';\n",
              "          await google.colab.output.renderOutput(dataTable, element);\n",
              "          const docLink = document.createElement('div');\n",
              "          docLink.innerHTML = docLinkHtml;\n",
              "          element.appendChild(docLink);\n",
              "        }\n",
              "      </script>\n",
              "    </div>\n",
              "  </div>\n",
              "  "
            ]
          },
          "metadata": {},
          "execution_count": 36
        }
      ],
      "source": [
        "# Display X_train\n",
        "\n",
        "X_train.select_dtypes(include=['object']).head()"
      ]
    },
    {
      "cell_type": "code",
      "execution_count": 74,
      "metadata": {
        "colab": {
          "base_uri": "https://localhost:8080/"
        },
        "id": "KGpOuklnuoFI",
        "outputId": "845b6c74-89f3-433e-8abc-f8ad5925ab94"
      },
      "outputs": [
        {
          "output_type": "execute_result",
          "data": {
            "text/plain": [
              "['Gender',\n",
              " 'Marital_Status',\n",
              " 'Website_Activity',\n",
              " 'Browsed_Electronics_12Mo',\n",
              " 'Bought_Electronics_12Mo',\n",
              " 'Bought_Digital_Media_18Mo',\n",
              " 'Bought_Digital_Books',\n",
              " 'Payment_Method']"
            ]
          },
          "metadata": {},
          "execution_count": 74
        }
      ],
      "source": [
        "# Categorical Columns\n",
        "\n",
        "categorical = ['Gender','Marital_Status','Website_Activity','Browsed_Electronics_12Mo','Bought_Electronics_12Mo',\n",
        "                'Bought_Digital_Media_18Mo','Bought_Digital_Books','Payment_Method']\n",
        "categorical_trs = OneHotEncoder(handle_unknown='ignore')\n",
        "\n",
        "categorical\n"
      ]
    },
    {
      "cell_type": "markdown",
      "metadata": {
        "id": "MdTPl-7yuoFI"
      },
      "source": [
        "Column Transformer"
      ]
    },
    {
      "cell_type": "code",
      "execution_count": 70,
      "metadata": {
        "colab": {
          "base_uri": "https://localhost:8080/"
        },
        "id": "wYwVlktauoFI",
        "outputId": "215cdb6e-9fec-403b-f46b-fb1caf17ff09"
      },
      "outputs": [
        {
          "output_type": "execute_result",
          "data": {
            "text/plain": [
              "ColumnTransformer(transformers=[('num_columns', StandardScaler(), ['Age']),\n",
              "                                ('cat_columns',\n",
              "                                 OneHotEncoder(handle_unknown='ignore'),\n",
              "                                 ['Gender', 'Marital_Status',\n",
              "                                  'Website_Activity',\n",
              "                                  'Browsed_Electronics_12Mo',\n",
              "                                  'Bought_Electronics_12Mo',\n",
              "                                  'Bought_Digital_Media_18Mo',\n",
              "                                  'Bought_Digital_Books', 'Payment_Method'])])"
            ]
          },
          "metadata": {},
          "execution_count": 70
        }
      ],
      "source": [
        "# Preprocessor\n",
        "\n",
        "preprocessor = ColumnTransformer(\n",
        "    transformers=[\n",
        "        (\"num_columns\", numeric_trs, numeric),\n",
        "        (\"cat_columns\", categorical_trs, categorical)\n",
        "    ]\n",
        ")\n",
        "\n",
        "preprocessor"
      ]
    },
    {
      "cell_type": "markdown",
      "metadata": {
        "id": "bSll5gUwuoFJ"
      },
      "source": [
        "# **MODEL DEFINITION**"
      ]
    },
    {
      "cell_type": "markdown",
      "metadata": {
        "id": "OOONFysfuoFJ"
      },
      "source": [
        "Pada bagian ini, kita akan melakukan definisi dari model yang akan kita buat. Dalam kasus ini tugas kita adalah membuat model klasifikasi, dengan 3 algoritma Decision Tree , Super Vector Machine Classfier dan Logistic Regression."
      ]
    },
    {
      "cell_type": "markdown",
      "metadata": {
        "id": "zfukItTXuoFJ"
      },
      "source": [
        "**Pipeline Decision Tree Classifier**"
      ]
    },
    {
      "cell_type": "code",
      "execution_count": 92,
      "metadata": {
        "colab": {
          "base_uri": "https://localhost:8080/"
        },
        "id": "3gAlVKWDuoFJ",
        "outputId": "6047676a-8058-4b98-eff4-0bc4dbefe351"
      },
      "outputs": [
        {
          "output_type": "execute_result",
          "data": {
            "text/plain": [
              "Pipeline(steps=[('preprocessor',\n",
              "                 ColumnTransformer(transformers=[('num_columns',\n",
              "                                                  StandardScaler(), ['Age']),\n",
              "                                                 ('cat_columns',\n",
              "                                                  OneHotEncoder(handle_unknown='ignore'),\n",
              "                                                  ['Gender', 'Marital_Status',\n",
              "                                                   'Website_Activity',\n",
              "                                                   'Browsed_Electronics_12Mo',\n",
              "                                                   'Bought_Electronics_12Mo',\n",
              "                                                   'Bought_Digital_Media_18Mo',\n",
              "                                                   'Bought_Digital_Books',\n",
              "                                                   'Payment_Method'])])),\n",
              "                ('DTC', DecisionTreeClassifier(random_state=10))])"
            ]
          },
          "metadata": {},
          "execution_count": 92
        }
      ],
      "source": [
        "# Pipeline\n",
        "\n",
        "pipe_DTC = Pipeline(\n",
        "    steps=[(\"preprocessor\", preprocessor), (\"DTC\", DecisionTreeClassifier(random_state=10))]\n",
        ")\n",
        "\n",
        "dtc = pipe_DTC.fit(X_train, y_train)\n",
        "\n",
        "dtc\n"
      ]
    },
    {
      "cell_type": "markdown",
      "metadata": {
        "id": "8cWn5M_0uoFK"
      },
      "source": [
        "**Pipeline Logistic Regression Classifier**"
      ]
    },
    {
      "cell_type": "code",
      "execution_count": 93,
      "metadata": {
        "colab": {
          "base_uri": "https://localhost:8080/"
        },
        "id": "CZf4ceH-uoFK",
        "outputId": "0188d046-3b77-4419-e76c-98a4162d341c"
      },
      "outputs": [
        {
          "output_type": "execute_result",
          "data": {
            "text/plain": [
              "Pipeline(steps=[('preprocessor',\n",
              "                 ColumnTransformer(transformers=[('num_columns',\n",
              "                                                  StandardScaler(), ['Age']),\n",
              "                                                 ('cat_columns',\n",
              "                                                  OneHotEncoder(handle_unknown='ignore'),\n",
              "                                                  ['Gender', 'Marital_Status',\n",
              "                                                   'Website_Activity',\n",
              "                                                   'Browsed_Electronics_12Mo',\n",
              "                                                   'Bought_Electronics_12Mo',\n",
              "                                                   'Bought_Digital_Media_18Mo',\n",
              "                                                   'Bought_Digital_Books',\n",
              "                                                   'Payment_Method'])])),\n",
              "                ('LR', LogisticRegression(random_state=10))])"
            ]
          },
          "metadata": {},
          "execution_count": 93
        }
      ],
      "source": [
        "# Pipeline\n",
        "\n",
        "pipe_LR = Pipeline(\n",
        "    steps=[(\"preprocessor\", preprocessor), (\"LR\", LogisticRegression(random_state=10))]\n",
        ")\n",
        "\n",
        "lr = pipe_LR.fit(X_train, y_train)\n",
        "\n",
        "lr\n"
      ]
    },
    {
      "cell_type": "markdown",
      "metadata": {
        "id": "qPN0eeLUuoFL"
      },
      "source": [
        "**Pipeline Super Vector Machine (SVC) Classifier**"
      ]
    },
    {
      "cell_type": "code",
      "execution_count": 94,
      "metadata": {
        "colab": {
          "base_uri": "https://localhost:8080/"
        },
        "id": "uFlAtJJiuoFL",
        "outputId": "26014819-37fb-4c2e-a736-0a6ef37eadbe"
      },
      "outputs": [
        {
          "output_type": "execute_result",
          "data": {
            "text/plain": [
              "Pipeline(steps=[('preprocessor',\n",
              "                 ColumnTransformer(transformers=[('num_columns',\n",
              "                                                  StandardScaler(), ['Age']),\n",
              "                                                 ('cat_columns',\n",
              "                                                  OneHotEncoder(handle_unknown='ignore'),\n",
              "                                                  ['Gender', 'Marital_Status',\n",
              "                                                   'Website_Activity',\n",
              "                                                   'Browsed_Electronics_12Mo',\n",
              "                                                   'Bought_Electronics_12Mo',\n",
              "                                                   'Bought_Digital_Media_18Mo',\n",
              "                                                   'Bought_Digital_Books',\n",
              "                                                   'Payment_Method'])])),\n",
              "                ('SVC', SVC(random_state=10))])"
            ]
          },
          "metadata": {},
          "execution_count": 94
        }
      ],
      "source": [
        "# Pipeline\n",
        "\n",
        "pipe_SVC = Pipeline(\n",
        "    steps=[(\"preprocessor\", preprocessor), (\"SVC\", SVC(random_state=10))]\n",
        ")\n",
        "\n",
        "svc = pipe_SVC.fit(X_train, y_train)\n",
        "svc"
      ]
    },
    {
      "cell_type": "markdown",
      "metadata": {
        "id": "8tJ760IvuoFL"
      },
      "source": [
        "# **MODEL EVALUATION & IMPROVEMENT**"
      ]
    },
    {
      "cell_type": "markdown",
      "metadata": {
        "id": "AbvU1yZyuoFL"
      },
      "source": [
        "Pada bagian ini, kita akan melakukan evaluasi model dan improvement menggunakan grid search."
      ]
    },
    {
      "cell_type": "markdown",
      "metadata": {
        "id": "txmtcWqtuoFM"
      },
      "source": [
        "## Evaluation"
      ]
    },
    {
      "cell_type": "code",
      "execution_count": 39,
      "metadata": {
        "id": "5oAFlVy4uoFM"
      },
      "outputs": [],
      "source": [
        "def cek_accuracy(model):\n",
        "    print('Metrics Accuracy Score')\n",
        "    print('Train Score :',accuracy_score(y_train, model.predict(X_train)))\n",
        "    print('Test Score  :',accuracy_score(y_test, model.predict(X_test)))"
      ]
    },
    {
      "cell_type": "code",
      "execution_count": 43,
      "metadata": {
        "colab": {
          "base_uri": "https://localhost:8080/"
        },
        "id": "Oy7YrZysuoFM",
        "outputId": "c3f84857-bb5b-49bb-ba07-fb1d809e20b6"
      },
      "outputs": [
        {
          "output_type": "stream",
          "name": "stdout",
          "text": [
            "Metrics Accuracy Score\n",
            "Train Score : 0.8841354723707665\n",
            "Test Score  : 0.45\n"
          ]
        }
      ],
      "source": [
        "# Decision Tree\n",
        "\n",
        "cek_accuracy(pipe_DTC)"
      ]
    },
    {
      "cell_type": "code",
      "execution_count": 44,
      "metadata": {
        "colab": {
          "base_uri": "https://localhost:8080/"
        },
        "id": "f90VLDUouoFN",
        "outputId": "5f81c0ae-a3ec-4ba8-f5e6-4dc88c5b69c9"
      },
      "outputs": [
        {
          "output_type": "stream",
          "name": "stdout",
          "text": [
            "Metrics Accuracy Score\n",
            "Train Score : 0.6292335115864528\n",
            "Test Score  : 0.7\n"
          ]
        }
      ],
      "source": [
        "# Logistic Regression\n",
        "\n",
        "cek_accuracy(pipe_LR)"
      ]
    },
    {
      "cell_type": "code",
      "execution_count": 45,
      "metadata": {
        "colab": {
          "base_uri": "https://localhost:8080/"
        },
        "id": "Q4UQofmHuoFN",
        "outputId": "c82ba9d4-d8ba-4d00-ac09-0404ec396ed9"
      },
      "outputs": [
        {
          "output_type": "stream",
          "name": "stdout",
          "text": [
            "Metrics Accuracy Score\n",
            "Train Score : 0.6844919786096256\n",
            "Test Score  : 0.67\n"
          ]
        }
      ],
      "source": [
        "# Logistic SVC\n",
        "\n",
        "cek_accuracy(pipe_SVC)"
      ]
    },
    {
      "cell_type": "markdown",
      "metadata": {
        "id": "PrZ5GGQCuoFN"
      },
      "source": [
        "Berdasarkan hasil diatas, kita bisa melihat bahwa algoritma decision tree mempunyai nilai overfit.\n",
        "\n",
        "\n"
      ]
    },
    {
      "cell_type": "markdown",
      "metadata": {
        "id": "S6npGNP8uoFO"
      },
      "source": [
        "## Hyperparameter Tuning/ Model Improvement"
      ]
    },
    {
      "cell_type": "markdown",
      "metadata": {
        "id": "0sjuaQRruoFO"
      },
      "source": [
        "**Decisison Tree**"
      ]
    },
    {
      "cell_type": "code",
      "execution_count": 64,
      "metadata": {
        "colab": {
          "base_uri": "https://localhost:8080/"
        },
        "id": "nvrmtSN0uoFO",
        "outputId": "5812ffdf-c72d-48ce-d9a7-bc4e878ad2b2"
      },
      "outputs": [
        {
          "output_type": "execute_result",
          "data": {
            "text/plain": [
              "{'DTC__criterion': ['gini', 'entropy'], 'DTC__max_depth': [5, 6]}"
            ]
          },
          "metadata": {},
          "execution_count": 64
        }
      ],
      "source": [
        "params_dtc = {\n",
        "    'DTC__criterion':['gini','entropy'],\n",
        "    'DTC__max_depth': [5,6],\n",
        "}\n",
        "grid_dtc = GridSearchCV(pipe_DTC, param_grid = params_dtc, cv=5).fit(X_train, y_train)\n",
        "\n",
        "# Make variable for Grid Best estimator\n",
        "grid_best_DTC = grid_dtc.best_estimator_\n",
        "\n",
        "# Pipeline Final\n",
        "grid_DTC_final = Pipeline(\n",
        "    steps=[(\"grid_best_DTC\", grid_best_DTC)]\n",
        ")\n",
        "\n",
        "params_dtc"
      ]
    },
    {
      "cell_type": "markdown",
      "metadata": {
        "id": "esQQflISuoFP"
      },
      "source": [
        "**Logistic Regression**"
      ]
    },
    {
      "cell_type": "code",
      "execution_count": 63,
      "metadata": {
        "colab": {
          "base_uri": "https://localhost:8080/"
        },
        "id": "ATxHR9fbuoFP",
        "outputId": "3baf191b-84e7-4e5b-be7a-93496709a81b"
      },
      "outputs": [
        {
          "output_type": "stream",
          "name": "stderr",
          "text": [
            "/usr/local/lib/python3.7/dist-packages/sklearn/linear_model/_sag.py:354: ConvergenceWarning: The max_iter was reached which means the coef_ did not converge\n",
            "  ConvergenceWarning,\n",
            "/usr/local/lib/python3.7/dist-packages/sklearn/linear_model/_sag.py:354: ConvergenceWarning: The max_iter was reached which means the coef_ did not converge\n",
            "  ConvergenceWarning,\n",
            "/usr/local/lib/python3.7/dist-packages/sklearn/linear_model/_sag.py:354: ConvergenceWarning: The max_iter was reached which means the coef_ did not converge\n",
            "  ConvergenceWarning,\n",
            "/usr/local/lib/python3.7/dist-packages/sklearn/linear_model/_sag.py:354: ConvergenceWarning: The max_iter was reached which means the coef_ did not converge\n",
            "  ConvergenceWarning,\n",
            "/usr/local/lib/python3.7/dist-packages/sklearn/linear_model/_sag.py:354: ConvergenceWarning: The max_iter was reached which means the coef_ did not converge\n",
            "  ConvergenceWarning,\n",
            "/usr/local/lib/python3.7/dist-packages/sklearn/linear_model/_logistic.py:818: ConvergenceWarning: lbfgs failed to converge (status=1):\n",
            "STOP: TOTAL NO. of ITERATIONS REACHED LIMIT.\n",
            "\n",
            "Increase the number of iterations (max_iter) or scale the data as shown in:\n",
            "    https://scikit-learn.org/stable/modules/preprocessing.html\n",
            "Please also refer to the documentation for alternative solver options:\n",
            "    https://scikit-learn.org/stable/modules/linear_model.html#logistic-regression\n",
            "  extra_warning_msg=_LOGISTIC_SOLVER_CONVERGENCE_MSG,\n",
            "/usr/local/lib/python3.7/dist-packages/sklearn/linear_model/_sag.py:354: ConvergenceWarning: The max_iter was reached which means the coef_ did not converge\n",
            "  ConvergenceWarning,\n",
            "/usr/local/lib/python3.7/dist-packages/sklearn/linear_model/_sag.py:354: ConvergenceWarning: The max_iter was reached which means the coef_ did not converge\n",
            "  ConvergenceWarning,\n",
            "/usr/local/lib/python3.7/dist-packages/sklearn/linear_model/_sag.py:354: ConvergenceWarning: The max_iter was reached which means the coef_ did not converge\n",
            "  ConvergenceWarning,\n",
            "/usr/local/lib/python3.7/dist-packages/sklearn/linear_model/_sag.py:354: ConvergenceWarning: The max_iter was reached which means the coef_ did not converge\n",
            "  ConvergenceWarning,\n",
            "/usr/local/lib/python3.7/dist-packages/sklearn/linear_model/_sag.py:354: ConvergenceWarning: The max_iter was reached which means the coef_ did not converge\n",
            "  ConvergenceWarning,\n",
            "/usr/local/lib/python3.7/dist-packages/sklearn/linear_model/_logistic.py:818: ConvergenceWarning: lbfgs failed to converge (status=1):\n",
            "STOP: TOTAL NO. of ITERATIONS REACHED LIMIT.\n",
            "\n",
            "Increase the number of iterations (max_iter) or scale the data as shown in:\n",
            "    https://scikit-learn.org/stable/modules/preprocessing.html\n",
            "Please also refer to the documentation for alternative solver options:\n",
            "    https://scikit-learn.org/stable/modules/linear_model.html#logistic-regression\n",
            "  extra_warning_msg=_LOGISTIC_SOLVER_CONVERGENCE_MSG,\n"
          ]
        },
        {
          "output_type": "execute_result",
          "data": {
            "text/plain": [
              "{'LR__C': [5, 6], 'LR__solver': ['lbfgs', 'saga']}"
            ]
          },
          "metadata": {},
          "execution_count": 63
        }
      ],
      "source": [
        "params_lr = {\n",
        "    'LR__solver':['lbfgs','saga'],\n",
        "    'LR__C': [5,6],\n",
        "}\n",
        "grid_lr = GridSearchCV(pipe_LR, param_grid = params_lr, cv=5).fit(X_train, y_train)\n",
        "\n",
        "# Make variable for Grid Best estimator\n",
        "grid_best_lr = grid_lr.best_estimator_\n",
        "\n",
        "# Pipeline Final\n",
        "grid_LR_final = Pipeline(\n",
        "    steps=[(\"grid_best_lr\", grid_best_lr)]\n",
        ")\n",
        "\n",
        "params_lr"
      ]
    },
    {
      "cell_type": "markdown",
      "metadata": {
        "id": "-dxCyh0IuoFP"
      },
      "source": [
        "**SVC**"
      ]
    },
    {
      "cell_type": "code",
      "execution_count": 62,
      "metadata": {
        "colab": {
          "base_uri": "https://localhost:8080/"
        },
        "id": "1KxEXHaTuoFQ",
        "outputId": "c9e50de2-3140-419c-9753-5d7e1d5a4279"
      },
      "outputs": [
        {
          "output_type": "execute_result",
          "data": {
            "text/plain": [
              "{'SVC__C': [20], 'SVC__kernel': ['linear', 'sigmoid']}"
            ]
          },
          "metadata": {},
          "execution_count": 62
        }
      ],
      "source": [
        "params_svc = {\n",
        "    'SVC__kernel':['linear','sigmoid'],\n",
        "    'SVC__C': [20],\n",
        "}\n",
        "grid_svc = GridSearchCV(pipe_SVC, param_grid = params_svc, cv=5).fit(X_train, y_train)\n",
        "\n",
        "# Make variable for Grid Best estimator\n",
        "grid_best_svc = grid_svc.best_estimator_\n",
        "\n",
        "# Pipeline Final\n",
        "grid_SVC_final = Pipeline(\n",
        "    steps=[(\"grid_best_svc\", grid_best_svc)]\n",
        ")\n",
        "\n",
        "params_svc"
      ]
    },
    {
      "cell_type": "markdown",
      "metadata": {
        "id": "npBgjOhEuoFQ"
      },
      "source": [
        "## Evaluation 2"
      ]
    },
    {
      "cell_type": "code",
      "source": [
        "def best_params(model1, model2):\n",
        "    print('Result Best Params')\n",
        "    print('best params:', model1.best_params_)\n",
        "    print('best score:', model1.best_score_)\n",
        "\n",
        "    print('======================='*3)\n",
        "    print('Metrics Accuracy Score')\n",
        "    print('Train Results:', accuracy_score(y_train, model2.predict(X_train)))\n",
        "    print('Test Results:',accuracy_score(y_test, model2.predict(X_test)))"
      ],
      "metadata": {
        "id": "oxQhCd-dEo2u"
      },
      "execution_count": 50,
      "outputs": []
    },
    {
      "cell_type": "code",
      "execution_count": 51,
      "metadata": {
        "colab": {
          "base_uri": "https://localhost:8080/"
        },
        "id": "au5tkC8PuoFQ",
        "outputId": "3d1e920d-3945-4357-ce72-91ebda87b76d"
      },
      "outputs": [
        {
          "output_type": "stream",
          "name": "stdout",
          "text": [
            "Result Best Params\n",
            "best params: {'DTC__criterion': 'gini', 'DTC__max_depth': 5}\n",
            "best score: 0.5543141592920353\n",
            "=====================================================================\n",
            "Metrics Accuracy Score\n",
            "Train Results: 0.6417112299465241\n",
            "Test Results: 0.59\n"
          ]
        }
      ],
      "source": [
        "best_params(grid_dtc, grid_DTC_final)"
      ]
    },
    {
      "cell_type": "code",
      "execution_count": 52,
      "metadata": {
        "colab": {
          "base_uri": "https://localhost:8080/"
        },
        "id": "wfzsYVq7uoFR",
        "outputId": "23662809-a8b6-45ce-e615-5c6ce5f25fb3"
      },
      "outputs": [
        {
          "output_type": "stream",
          "name": "stdout",
          "text": [
            "Result Best Params\n",
            "best params: {'LR__C': 6, 'LR__solver': 'lbfgs'}\n",
            "best score: 0.5632269279393174\n",
            "=====================================================================\n",
            "Metrics Accuracy Score\n",
            "Train Results: 0.6345811051693404\n",
            "Test Results: 0.69\n"
          ]
        }
      ],
      "source": [
        "best_params(grid_lr, grid_LR_final)"
      ]
    },
    {
      "cell_type": "code",
      "execution_count": 53,
      "metadata": {
        "colab": {
          "base_uri": "https://localhost:8080/"
        },
        "id": "JlMzw_6TuoFR",
        "outputId": "4a51677f-df54-4025-ed69-f7d7718a58f4"
      },
      "outputs": [
        {
          "output_type": "stream",
          "name": "stdout",
          "text": [
            "Result Best Params\n",
            "best params: {'SVC__C': 20, 'SVC__kernel': 'linear'}\n",
            "best score: 0.5792825537294564\n",
            "=====================================================================\n",
            "Metrics Accuracy Score\n",
            "Train Results: 0.5882352941176471\n",
            "Test Results: 0.64\n"
          ]
        }
      ],
      "source": [
        "best_params(grid_svc, grid_SVC_final)"
      ]
    },
    {
      "cell_type": "markdown",
      "metadata": {
        "id": "CxB4c1wduoFR"
      },
      "source": [
        "# Berdasarkan hasil dari evaluasi diatas kit abisa melihat bahwa, model setelah dilakukan Hyperparameter mengalami kenaikan performa dari masing masing algoritma."
      ]
    },
    {
      "cell_type": "markdown",
      "metadata": {
        "id": "F4Xfz2vAuoFR"
      },
      "source": [
        "# **MODEL SAVING**"
      ]
    },
    {
      "cell_type": "markdown",
      "metadata": {
        "id": "DApecuc3uoFS"
      },
      "source": [
        "Pada bagian ini, kita akan melakukan saving model "
      ]
    },
    {
      "cell_type": "code",
      "execution_count": 54,
      "metadata": {
        "id": "LQh5AH8duoFS"
      },
      "outputs": [],
      "source": [
        "# Save the best model\n",
        "with open('grid_DTC_final.pkl', 'wb') as file1:\n",
        "    pickle.dump(grid_DTC_final, file1)"
      ]
    },
    {
      "cell_type": "markdown",
      "metadata": {
        "id": "uVCRmZINuoFS"
      },
      "source": [
        "# **MODEL INFERENCE**"
      ]
    },
    {
      "cell_type": "markdown",
      "metadata": {
        "id": "1zchYylYuoFT"
      },
      "source": [
        "Pada bagian ini kita akan melakukan test terhadap model inference atau data test."
      ]
    },
    {
      "cell_type": "code",
      "execution_count": 55,
      "metadata": {
        "colab": {
          "base_uri": "https://localhost:8080/",
          "height": 423
        },
        "id": "6J9AWJQwuoFT",
        "outputId": "77d5b7c8-3b91-4d52-b70e-008e2007a3dd"
      },
      "outputs": [
        {
          "output_type": "execute_result",
          "data": {
            "text/plain": [
              "     User_ID Gender  Age Marital_Status Website_Activity  \\\n",
              "0      56031      M   57              S          Regular   \n",
              "1      25913      F   51              M          Regular   \n",
              "2      19396      M   41              M           Seldom   \n",
              "3      93666      M   66              S          Regular   \n",
              "4      72282      F   31              S           Seldom   \n",
              "..       ...    ...  ...            ...              ...   \n",
              "468    45102      M   60              S           Seldom   \n",
              "469    96393      F   24              S           Seldom   \n",
              "470    40897      M   23              M          Regular   \n",
              "471    23653      F   36              S           Seldom   \n",
              "472    88464      M   46              S           Seldom   \n",
              "\n",
              "    Browsed_Electronics_12Mo Bought_Electronics_12Mo  \\\n",
              "0                        Yes                     Yes   \n",
              "1                        Yes                     Yes   \n",
              "2                        Yes                     Yes   \n",
              "3                        Yes                     Yes   \n",
              "4                        Yes                      No   \n",
              "..                       ...                     ...   \n",
              "468                      Yes                      No   \n",
              "469                      Yes                      No   \n",
              "470                      Yes                     Yes   \n",
              "471                      Yes                      No   \n",
              "472                      Yes                     Yes   \n",
              "\n",
              "    Bought_Digital_Media_18Mo Bought_Digital_Books   Payment_Method  \n",
              "0                         Yes                  Yes    Bank Transfer  \n",
              "1                          No                   No    Bank Transfer  \n",
              "2                         Yes                   No  Website Account  \n",
              "3                         Yes                  Yes      Credit Card  \n",
              "4                         Yes                   No  Website Account  \n",
              "..                        ...                  ...              ...  \n",
              "468                       Yes                  Yes    Bank Transfer  \n",
              "469                        No                   No      Credit Card  \n",
              "470                       Yes                  Yes  Website Account  \n",
              "471                       Yes                   No    Bank Transfer  \n",
              "472                       Yes                  Yes    Bank Transfer  \n",
              "\n",
              "[473 rows x 10 columns]"
            ],
            "text/html": [
              "\n",
              "  <div id=\"df-c3378fe2-d8e6-439c-bc15-7111b7d87a31\">\n",
              "    <div class=\"colab-df-container\">\n",
              "      <div>\n",
              "<style scoped>\n",
              "    .dataframe tbody tr th:only-of-type {\n",
              "        vertical-align: middle;\n",
              "    }\n",
              "\n",
              "    .dataframe tbody tr th {\n",
              "        vertical-align: top;\n",
              "    }\n",
              "\n",
              "    .dataframe thead th {\n",
              "        text-align: right;\n",
              "    }\n",
              "</style>\n",
              "<table border=\"1\" class=\"dataframe\">\n",
              "  <thead>\n",
              "    <tr style=\"text-align: right;\">\n",
              "      <th></th>\n",
              "      <th>User_ID</th>\n",
              "      <th>Gender</th>\n",
              "      <th>Age</th>\n",
              "      <th>Marital_Status</th>\n",
              "      <th>Website_Activity</th>\n",
              "      <th>Browsed_Electronics_12Mo</th>\n",
              "      <th>Bought_Electronics_12Mo</th>\n",
              "      <th>Bought_Digital_Media_18Mo</th>\n",
              "      <th>Bought_Digital_Books</th>\n",
              "      <th>Payment_Method</th>\n",
              "    </tr>\n",
              "  </thead>\n",
              "  <tbody>\n",
              "    <tr>\n",
              "      <th>0</th>\n",
              "      <td>56031</td>\n",
              "      <td>M</td>\n",
              "      <td>57</td>\n",
              "      <td>S</td>\n",
              "      <td>Regular</td>\n",
              "      <td>Yes</td>\n",
              "      <td>Yes</td>\n",
              "      <td>Yes</td>\n",
              "      <td>Yes</td>\n",
              "      <td>Bank Transfer</td>\n",
              "    </tr>\n",
              "    <tr>\n",
              "      <th>1</th>\n",
              "      <td>25913</td>\n",
              "      <td>F</td>\n",
              "      <td>51</td>\n",
              "      <td>M</td>\n",
              "      <td>Regular</td>\n",
              "      <td>Yes</td>\n",
              "      <td>Yes</td>\n",
              "      <td>No</td>\n",
              "      <td>No</td>\n",
              "      <td>Bank Transfer</td>\n",
              "    </tr>\n",
              "    <tr>\n",
              "      <th>2</th>\n",
              "      <td>19396</td>\n",
              "      <td>M</td>\n",
              "      <td>41</td>\n",
              "      <td>M</td>\n",
              "      <td>Seldom</td>\n",
              "      <td>Yes</td>\n",
              "      <td>Yes</td>\n",
              "      <td>Yes</td>\n",
              "      <td>No</td>\n",
              "      <td>Website Account</td>\n",
              "    </tr>\n",
              "    <tr>\n",
              "      <th>3</th>\n",
              "      <td>93666</td>\n",
              "      <td>M</td>\n",
              "      <td>66</td>\n",
              "      <td>S</td>\n",
              "      <td>Regular</td>\n",
              "      <td>Yes</td>\n",
              "      <td>Yes</td>\n",
              "      <td>Yes</td>\n",
              "      <td>Yes</td>\n",
              "      <td>Credit Card</td>\n",
              "    </tr>\n",
              "    <tr>\n",
              "      <th>4</th>\n",
              "      <td>72282</td>\n",
              "      <td>F</td>\n",
              "      <td>31</td>\n",
              "      <td>S</td>\n",
              "      <td>Seldom</td>\n",
              "      <td>Yes</td>\n",
              "      <td>No</td>\n",
              "      <td>Yes</td>\n",
              "      <td>No</td>\n",
              "      <td>Website Account</td>\n",
              "    </tr>\n",
              "    <tr>\n",
              "      <th>...</th>\n",
              "      <td>...</td>\n",
              "      <td>...</td>\n",
              "      <td>...</td>\n",
              "      <td>...</td>\n",
              "      <td>...</td>\n",
              "      <td>...</td>\n",
              "      <td>...</td>\n",
              "      <td>...</td>\n",
              "      <td>...</td>\n",
              "      <td>...</td>\n",
              "    </tr>\n",
              "    <tr>\n",
              "      <th>468</th>\n",
              "      <td>45102</td>\n",
              "      <td>M</td>\n",
              "      <td>60</td>\n",
              "      <td>S</td>\n",
              "      <td>Seldom</td>\n",
              "      <td>Yes</td>\n",
              "      <td>No</td>\n",
              "      <td>Yes</td>\n",
              "      <td>Yes</td>\n",
              "      <td>Bank Transfer</td>\n",
              "    </tr>\n",
              "    <tr>\n",
              "      <th>469</th>\n",
              "      <td>96393</td>\n",
              "      <td>F</td>\n",
              "      <td>24</td>\n",
              "      <td>S</td>\n",
              "      <td>Seldom</td>\n",
              "      <td>Yes</td>\n",
              "      <td>No</td>\n",
              "      <td>No</td>\n",
              "      <td>No</td>\n",
              "      <td>Credit Card</td>\n",
              "    </tr>\n",
              "    <tr>\n",
              "      <th>470</th>\n",
              "      <td>40897</td>\n",
              "      <td>M</td>\n",
              "      <td>23</td>\n",
              "      <td>M</td>\n",
              "      <td>Regular</td>\n",
              "      <td>Yes</td>\n",
              "      <td>Yes</td>\n",
              "      <td>Yes</td>\n",
              "      <td>Yes</td>\n",
              "      <td>Website Account</td>\n",
              "    </tr>\n",
              "    <tr>\n",
              "      <th>471</th>\n",
              "      <td>23653</td>\n",
              "      <td>F</td>\n",
              "      <td>36</td>\n",
              "      <td>S</td>\n",
              "      <td>Seldom</td>\n",
              "      <td>Yes</td>\n",
              "      <td>No</td>\n",
              "      <td>Yes</td>\n",
              "      <td>No</td>\n",
              "      <td>Bank Transfer</td>\n",
              "    </tr>\n",
              "    <tr>\n",
              "      <th>472</th>\n",
              "      <td>88464</td>\n",
              "      <td>M</td>\n",
              "      <td>46</td>\n",
              "      <td>S</td>\n",
              "      <td>Seldom</td>\n",
              "      <td>Yes</td>\n",
              "      <td>Yes</td>\n",
              "      <td>Yes</td>\n",
              "      <td>Yes</td>\n",
              "      <td>Bank Transfer</td>\n",
              "    </tr>\n",
              "  </tbody>\n",
              "</table>\n",
              "<p>473 rows × 10 columns</p>\n",
              "</div>\n",
              "      <button class=\"colab-df-convert\" onclick=\"convertToInteractive('df-c3378fe2-d8e6-439c-bc15-7111b7d87a31')\"\n",
              "              title=\"Convert this dataframe to an interactive table.\"\n",
              "              style=\"display:none;\">\n",
              "        \n",
              "  <svg xmlns=\"http://www.w3.org/2000/svg\" height=\"24px\"viewBox=\"0 0 24 24\"\n",
              "       width=\"24px\">\n",
              "    <path d=\"M0 0h24v24H0V0z\" fill=\"none\"/>\n",
              "    <path d=\"M18.56 5.44l.94 2.06.94-2.06 2.06-.94-2.06-.94-.94-2.06-.94 2.06-2.06.94zm-11 1L8.5 8.5l.94-2.06 2.06-.94-2.06-.94L8.5 2.5l-.94 2.06-2.06.94zm10 10l.94 2.06.94-2.06 2.06-.94-2.06-.94-.94-2.06-.94 2.06-2.06.94z\"/><path d=\"M17.41 7.96l-1.37-1.37c-.4-.4-.92-.59-1.43-.59-.52 0-1.04.2-1.43.59L10.3 9.45l-7.72 7.72c-.78.78-.78 2.05 0 2.83L4 21.41c.39.39.9.59 1.41.59.51 0 1.02-.2 1.41-.59l7.78-7.78 2.81-2.81c.8-.78.8-2.07 0-2.86zM5.41 20L4 18.59l7.72-7.72 1.47 1.35L5.41 20z\"/>\n",
              "  </svg>\n",
              "      </button>\n",
              "      \n",
              "  <style>\n",
              "    .colab-df-container {\n",
              "      display:flex;\n",
              "      flex-wrap:wrap;\n",
              "      gap: 12px;\n",
              "    }\n",
              "\n",
              "    .colab-df-convert {\n",
              "      background-color: #E8F0FE;\n",
              "      border: none;\n",
              "      border-radius: 50%;\n",
              "      cursor: pointer;\n",
              "      display: none;\n",
              "      fill: #1967D2;\n",
              "      height: 32px;\n",
              "      padding: 0 0 0 0;\n",
              "      width: 32px;\n",
              "    }\n",
              "\n",
              "    .colab-df-convert:hover {\n",
              "      background-color: #E2EBFA;\n",
              "      box-shadow: 0px 1px 2px rgba(60, 64, 67, 0.3), 0px 1px 3px 1px rgba(60, 64, 67, 0.15);\n",
              "      fill: #174EA6;\n",
              "    }\n",
              "\n",
              "    [theme=dark] .colab-df-convert {\n",
              "      background-color: #3B4455;\n",
              "      fill: #D2E3FC;\n",
              "    }\n",
              "\n",
              "    [theme=dark] .colab-df-convert:hover {\n",
              "      background-color: #434B5C;\n",
              "      box-shadow: 0px 1px 3px 1px rgba(0, 0, 0, 0.15);\n",
              "      filter: drop-shadow(0px 1px 2px rgba(0, 0, 0, 0.3));\n",
              "      fill: #FFFFFF;\n",
              "    }\n",
              "  </style>\n",
              "\n",
              "      <script>\n",
              "        const buttonEl =\n",
              "          document.querySelector('#df-c3378fe2-d8e6-439c-bc15-7111b7d87a31 button.colab-df-convert');\n",
              "        buttonEl.style.display =\n",
              "          google.colab.kernel.accessAllowed ? 'block' : 'none';\n",
              "\n",
              "        async function convertToInteractive(key) {\n",
              "          const element = document.querySelector('#df-c3378fe2-d8e6-439c-bc15-7111b7d87a31');\n",
              "          const dataTable =\n",
              "            await google.colab.kernel.invokeFunction('convertToInteractive',\n",
              "                                                     [key], {});\n",
              "          if (!dataTable) return;\n",
              "\n",
              "          const docLinkHtml = 'Like what you see? Visit the ' +\n",
              "            '<a target=\"_blank\" href=https://colab.research.google.com/notebooks/data_table.ipynb>data table notebook</a>'\n",
              "            + ' to learn more about interactive tables.';\n",
              "          element.innerHTML = '';\n",
              "          dataTable['output_type'] = 'display_data';\n",
              "          await google.colab.output.renderOutput(dataTable, element);\n",
              "          const docLink = document.createElement('div');\n",
              "          docLink.innerHTML = docLinkHtml;\n",
              "          element.appendChild(docLink);\n",
              "        }\n",
              "      </script>\n",
              "    </div>\n",
              "  </div>\n",
              "  "
            ]
          },
          "metadata": {},
          "execution_count": 55
        }
      ],
      "source": [
        "# Display Data Test\n",
        "\n",
        "data_test"
      ]
    },
    {
      "cell_type": "markdown",
      "metadata": {
        "id": "sJpdA7_6uoFT"
      },
      "source": [
        "## Handling Missing Value"
      ]
    },
    {
      "cell_type": "code",
      "execution_count": 56,
      "metadata": {
        "colab": {
          "base_uri": "https://localhost:8080/"
        },
        "id": "on0MBEDruoFT",
        "outputId": "1c08ed75-af2c-4458-ff86-84460db3fad5"
      },
      "outputs": [
        {
          "output_type": "execute_result",
          "data": {
            "text/plain": [
              "User_ID                      0\n",
              "Gender                       0\n",
              "Age                          0\n",
              "Marital_Status               0\n",
              "Website_Activity             0\n",
              "Browsed_Electronics_12Mo     0\n",
              "Bought_Electronics_12Mo      0\n",
              "Bought_Digital_Media_18Mo    0\n",
              "Bought_Digital_Books         0\n",
              "Payment_Method               0\n",
              "dtype: int64"
            ]
          },
          "metadata": {},
          "execution_count": 56
        }
      ],
      "source": [
        "data_test.isnull().sum()"
      ]
    },
    {
      "cell_type": "markdown",
      "metadata": {
        "id": "-19p19PAuoFU"
      },
      "source": [
        "Hasil menunjukan bahwa tidak ada missing value dalam data_test, mengingat kita telah melakukan drop terhadap kolom User ID pada X_train dan X_test maka dari itu kita juga akan melakukan hal yang sama terhadap data inference atau data yang akan kita lakukan prediksi."
      ]
    },
    {
      "cell_type": "code",
      "execution_count": 57,
      "metadata": {
        "id": "HXHzWsVAuoFU"
      },
      "outputs": [],
      "source": [
        "data_test.drop('User_ID', inplace=True, axis=1)"
      ]
    },
    {
      "cell_type": "markdown",
      "metadata": {
        "id": "MP5yRCttuoFU"
      },
      "source": [
        "## Predict"
      ]
    },
    {
      "cell_type": "markdown",
      "metadata": {
        "id": "oCaDqVMAuoFV"
      },
      "source": [
        "Kita akan melakukan prediksi terhadap data test"
      ]
    },
    {
      "cell_type": "code",
      "execution_count": 58,
      "metadata": {
        "colab": {
          "base_uri": "https://localhost:8080/"
        },
        "id": "0SqWgNNsuoFV",
        "outputId": "6e2de983-9d2c-449a-9335-46874a17aefe"
      },
      "outputs": [
        {
          "output_type": "execute_result",
          "data": {
            "text/plain": [
              "array([2, 0, 3, 1, 3, 1, 3, 0, 0, 1, 0, 1, 0, 1, 2, 1, 1, 3, 3, 0, 3, 0,\n",
              "       0, 3, 0, 3, 2, 2, 0, 0, 1, 0, 0, 3, 3, 0, 0, 0, 3, 3, 0, 0, 3, 0,\n",
              "       0, 0, 3, 3, 0, 2, 2, 0, 2, 1, 3, 0, 3, 3, 3, 3, 3, 3, 0, 1, 0, 1,\n",
              "       3, 1, 3, 0, 2, 2, 3, 3, 3, 3, 3, 3, 0, 2, 3, 3, 3, 0, 0, 0, 3, 0,\n",
              "       0, 0, 0, 0, 0, 3, 1, 3, 2, 3, 3, 3, 3, 0, 3, 0, 2, 3, 0, 2, 3, 3,\n",
              "       3, 1, 0, 3, 0, 0, 0, 3, 3, 0, 2, 0, 0, 0, 3, 3, 2, 3, 1, 3, 1, 3,\n",
              "       2, 0, 0, 3, 2, 0, 3, 2, 0, 0, 3, 2, 0, 0, 0, 3, 0, 3, 3, 0, 0, 2,\n",
              "       0, 0, 0, 0, 0, 0, 1, 2, 0, 3, 0, 3, 0, 0, 1, 0, 2, 0, 0, 0, 1, 2,\n",
              "       0, 0, 3, 0, 3, 3, 3, 1, 0, 0, 0, 3, 0, 3, 0, 3, 1, 3, 0, 0, 2, 3,\n",
              "       0, 0, 0, 3, 0, 3, 0, 0, 0, 0, 1, 1, 0, 2, 0, 3, 3, 0, 3, 0, 0, 3,\n",
              "       3, 3, 0, 1, 3, 0, 3, 0, 3, 2, 1, 0, 3, 0, 0, 3, 0, 0, 3, 3, 3, 3,\n",
              "       3, 3, 1, 0, 0, 1, 0, 0, 0, 0, 0, 1, 3, 1, 0, 3, 0, 2, 0, 0, 0, 3,\n",
              "       3, 2, 3, 0, 0, 3, 3, 3, 3, 0, 0, 2, 0, 3, 0, 0, 0, 3, 2, 2, 1, 0,\n",
              "       0, 3, 3, 0, 3, 0, 2, 1, 1, 3, 0, 3, 0, 0, 1, 3, 2, 0, 0, 3, 1, 0,\n",
              "       3, 3, 2, 0, 0, 3, 3, 3, 0, 0, 0, 2, 0, 3, 3, 2, 0, 2, 0, 0, 3, 0,\n",
              "       3, 0, 0, 3, 1, 2, 0, 0, 2, 1, 0, 1, 3, 3, 0, 2, 1, 1, 0, 0, 0, 3,\n",
              "       3, 3, 3, 0, 3, 1, 0, 0, 0, 1, 0, 0, 0, 0, 0, 2, 0, 0, 3, 3, 0, 1,\n",
              "       0, 0, 3, 3, 0, 0, 0, 0, 2, 3, 3, 3, 0, 0, 1, 3, 1, 3, 0, 0, 2, 0,\n",
              "       0, 0, 0, 3, 0, 0, 3, 2, 3, 0, 1, 2, 1, 3, 1, 3, 3, 3, 3, 0, 3, 3,\n",
              "       0, 1, 0, 3, 3, 1, 2, 0, 3, 0, 0, 2, 0, 3, 1, 0, 3, 0, 0, 0, 0, 0,\n",
              "       2, 3, 3, 0, 3, 2, 1, 3, 0, 3, 0, 0, 0, 3, 3, 0, 0, 1, 0, 1, 0, 0,\n",
              "       0, 3, 3, 0, 0, 3, 0, 3, 2, 3, 0])"
            ]
          },
          "metadata": {},
          "execution_count": 58
        }
      ],
      "source": [
        "pred = grid_DTC_final.predict(data_test)\n",
        "pred"
      ]
    },
    {
      "cell_type": "markdown",
      "metadata": {
        "id": "wOnx-LFeuoFV"
      },
      "source": [
        "Kita telah berhasil melakukan prediksi data test, selanjutnya kita akan membuat data frame terhadao hasil dari prediksi."
      ]
    },
    {
      "cell_type": "code",
      "execution_count": 61,
      "metadata": {
        "colab": {
          "base_uri": "https://localhost:8080/",
          "height": 423
        },
        "id": "MvmglutnuoFV",
        "outputId": "dcd8bd03-d245-4097-d7e5-5326455b73b3"
      },
      "outputs": [
        {
          "output_type": "execute_result",
          "data": {
            "text/plain": [
              "     Decision Tree(pred)\n",
              "0                      2\n",
              "1                      0\n",
              "2                      3\n",
              "3                      1\n",
              "4                      3\n",
              "..                   ...\n",
              "468                    0\n",
              "469                    3\n",
              "470                    2\n",
              "471                    3\n",
              "472                    0\n",
              "\n",
              "[473 rows x 1 columns]"
            ],
            "text/html": [
              "\n",
              "  <div id=\"df-08a81b33-09e5-4ca2-8e24-115f66acfefd\">\n",
              "    <div class=\"colab-df-container\">\n",
              "      <div>\n",
              "<style scoped>\n",
              "    .dataframe tbody tr th:only-of-type {\n",
              "        vertical-align: middle;\n",
              "    }\n",
              "\n",
              "    .dataframe tbody tr th {\n",
              "        vertical-align: top;\n",
              "    }\n",
              "\n",
              "    .dataframe thead th {\n",
              "        text-align: right;\n",
              "    }\n",
              "</style>\n",
              "<table border=\"1\" class=\"dataframe\">\n",
              "  <thead>\n",
              "    <tr style=\"text-align: right;\">\n",
              "      <th></th>\n",
              "      <th>Decision Tree(pred)</th>\n",
              "    </tr>\n",
              "  </thead>\n",
              "  <tbody>\n",
              "    <tr>\n",
              "      <th>0</th>\n",
              "      <td>2</td>\n",
              "    </tr>\n",
              "    <tr>\n",
              "      <th>1</th>\n",
              "      <td>0</td>\n",
              "    </tr>\n",
              "    <tr>\n",
              "      <th>2</th>\n",
              "      <td>3</td>\n",
              "    </tr>\n",
              "    <tr>\n",
              "      <th>3</th>\n",
              "      <td>1</td>\n",
              "    </tr>\n",
              "    <tr>\n",
              "      <th>4</th>\n",
              "      <td>3</td>\n",
              "    </tr>\n",
              "    <tr>\n",
              "      <th>...</th>\n",
              "      <td>...</td>\n",
              "    </tr>\n",
              "    <tr>\n",
              "      <th>468</th>\n",
              "      <td>0</td>\n",
              "    </tr>\n",
              "    <tr>\n",
              "      <th>469</th>\n",
              "      <td>3</td>\n",
              "    </tr>\n",
              "    <tr>\n",
              "      <th>470</th>\n",
              "      <td>2</td>\n",
              "    </tr>\n",
              "    <tr>\n",
              "      <th>471</th>\n",
              "      <td>3</td>\n",
              "    </tr>\n",
              "    <tr>\n",
              "      <th>472</th>\n",
              "      <td>0</td>\n",
              "    </tr>\n",
              "  </tbody>\n",
              "</table>\n",
              "<p>473 rows × 1 columns</p>\n",
              "</div>\n",
              "      <button class=\"colab-df-convert\" onclick=\"convertToInteractive('df-08a81b33-09e5-4ca2-8e24-115f66acfefd')\"\n",
              "              title=\"Convert this dataframe to an interactive table.\"\n",
              "              style=\"display:none;\">\n",
              "        \n",
              "  <svg xmlns=\"http://www.w3.org/2000/svg\" height=\"24px\"viewBox=\"0 0 24 24\"\n",
              "       width=\"24px\">\n",
              "    <path d=\"M0 0h24v24H0V0z\" fill=\"none\"/>\n",
              "    <path d=\"M18.56 5.44l.94 2.06.94-2.06 2.06-.94-2.06-.94-.94-2.06-.94 2.06-2.06.94zm-11 1L8.5 8.5l.94-2.06 2.06-.94-2.06-.94L8.5 2.5l-.94 2.06-2.06.94zm10 10l.94 2.06.94-2.06 2.06-.94-2.06-.94-.94-2.06-.94 2.06-2.06.94z\"/><path d=\"M17.41 7.96l-1.37-1.37c-.4-.4-.92-.59-1.43-.59-.52 0-1.04.2-1.43.59L10.3 9.45l-7.72 7.72c-.78.78-.78 2.05 0 2.83L4 21.41c.39.39.9.59 1.41.59.51 0 1.02-.2 1.41-.59l7.78-7.78 2.81-2.81c.8-.78.8-2.07 0-2.86zM5.41 20L4 18.59l7.72-7.72 1.47 1.35L5.41 20z\"/>\n",
              "  </svg>\n",
              "      </button>\n",
              "      \n",
              "  <style>\n",
              "    .colab-df-container {\n",
              "      display:flex;\n",
              "      flex-wrap:wrap;\n",
              "      gap: 12px;\n",
              "    }\n",
              "\n",
              "    .colab-df-convert {\n",
              "      background-color: #E8F0FE;\n",
              "      border: none;\n",
              "      border-radius: 50%;\n",
              "      cursor: pointer;\n",
              "      display: none;\n",
              "      fill: #1967D2;\n",
              "      height: 32px;\n",
              "      padding: 0 0 0 0;\n",
              "      width: 32px;\n",
              "    }\n",
              "\n",
              "    .colab-df-convert:hover {\n",
              "      background-color: #E2EBFA;\n",
              "      box-shadow: 0px 1px 2px rgba(60, 64, 67, 0.3), 0px 1px 3px 1px rgba(60, 64, 67, 0.15);\n",
              "      fill: #174EA6;\n",
              "    }\n",
              "\n",
              "    [theme=dark] .colab-df-convert {\n",
              "      background-color: #3B4455;\n",
              "      fill: #D2E3FC;\n",
              "    }\n",
              "\n",
              "    [theme=dark] .colab-df-convert:hover {\n",
              "      background-color: #434B5C;\n",
              "      box-shadow: 0px 1px 3px 1px rgba(0, 0, 0, 0.15);\n",
              "      filter: drop-shadow(0px 1px 2px rgba(0, 0, 0, 0.3));\n",
              "      fill: #FFFFFF;\n",
              "    }\n",
              "  </style>\n",
              "\n",
              "      <script>\n",
              "        const buttonEl =\n",
              "          document.querySelector('#df-08a81b33-09e5-4ca2-8e24-115f66acfefd button.colab-df-convert');\n",
              "        buttonEl.style.display =\n",
              "          google.colab.kernel.accessAllowed ? 'block' : 'none';\n",
              "\n",
              "        async function convertToInteractive(key) {\n",
              "          const element = document.querySelector('#df-08a81b33-09e5-4ca2-8e24-115f66acfefd');\n",
              "          const dataTable =\n",
              "            await google.colab.kernel.invokeFunction('convertToInteractive',\n",
              "                                                     [key], {});\n",
              "          if (!dataTable) return;\n",
              "\n",
              "          const docLinkHtml = 'Like what you see? Visit the ' +\n",
              "            '<a target=\"_blank\" href=https://colab.research.google.com/notebooks/data_table.ipynb>data table notebook</a>'\n",
              "            + ' to learn more about interactive tables.';\n",
              "          element.innerHTML = '';\n",
              "          dataTable['output_type'] = 'display_data';\n",
              "          await google.colab.output.renderOutput(dataTable, element);\n",
              "          const docLink = document.createElement('div');\n",
              "          docLink.innerHTML = docLinkHtml;\n",
              "          element.appendChild(docLink);\n",
              "        }\n",
              "      </script>\n",
              "    </div>\n",
              "  </div>\n",
              "  "
            ]
          },
          "metadata": {},
          "execution_count": 61
        }
      ],
      "source": [
        "df_predict = pd.DataFrame(pred, columns=['Decision Tree(pred)'])\n",
        "df_predict"
      ]
    },
    {
      "cell_type": "code",
      "execution_count": 60,
      "metadata": {
        "colab": {
          "base_uri": "https://localhost:8080/",
          "height": 485
        },
        "id": "5t7LCfLluoFW",
        "outputId": "81a68f6b-c775-4b87-a238-ebfa49cc4771"
      },
      "outputs": [
        {
          "output_type": "execute_result",
          "data": {
            "text/plain": [
              "    Gender  Age Marital_Status Website_Activity Browsed_Electronics_12Mo  \\\n",
              "0        M   57              S          Regular                      Yes   \n",
              "1        F   51              M          Regular                      Yes   \n",
              "2        M   41              M           Seldom                      Yes   \n",
              "3        M   66              S          Regular                      Yes   \n",
              "4        F   31              S           Seldom                      Yes   \n",
              "..     ...  ...            ...              ...                      ...   \n",
              "468      M   60              S           Seldom                      Yes   \n",
              "469      F   24              S           Seldom                      Yes   \n",
              "470      M   23              M          Regular                      Yes   \n",
              "471      F   36              S           Seldom                      Yes   \n",
              "472      M   46              S           Seldom                      Yes   \n",
              "\n",
              "    Bought_Electronics_12Mo Bought_Digital_Media_18Mo Bought_Digital_Books  \\\n",
              "0                       Yes                       Yes                  Yes   \n",
              "1                       Yes                        No                   No   \n",
              "2                       Yes                       Yes                   No   \n",
              "3                       Yes                       Yes                  Yes   \n",
              "4                        No                       Yes                   No   \n",
              "..                      ...                       ...                  ...   \n",
              "468                      No                       Yes                  Yes   \n",
              "469                      No                        No                   No   \n",
              "470                     Yes                       Yes                  Yes   \n",
              "471                      No                       Yes                   No   \n",
              "472                     Yes                       Yes                  Yes   \n",
              "\n",
              "      Payment_Method  Decision Tree(pred)  \n",
              "0      Bank Transfer                    2  \n",
              "1      Bank Transfer                    0  \n",
              "2    Website Account                    3  \n",
              "3        Credit Card                    1  \n",
              "4    Website Account                    3  \n",
              "..               ...                  ...  \n",
              "468    Bank Transfer                    0  \n",
              "469      Credit Card                    3  \n",
              "470  Website Account                    2  \n",
              "471    Bank Transfer                    3  \n",
              "472    Bank Transfer                    0  \n",
              "\n",
              "[473 rows x 10 columns]"
            ],
            "text/html": [
              "\n",
              "  <div id=\"df-a6c8944c-b3e7-45f8-8dd6-538e08fe81af\">\n",
              "    <div class=\"colab-df-container\">\n",
              "      <div>\n",
              "<style scoped>\n",
              "    .dataframe tbody tr th:only-of-type {\n",
              "        vertical-align: middle;\n",
              "    }\n",
              "\n",
              "    .dataframe tbody tr th {\n",
              "        vertical-align: top;\n",
              "    }\n",
              "\n",
              "    .dataframe thead th {\n",
              "        text-align: right;\n",
              "    }\n",
              "</style>\n",
              "<table border=\"1\" class=\"dataframe\">\n",
              "  <thead>\n",
              "    <tr style=\"text-align: right;\">\n",
              "      <th></th>\n",
              "      <th>Gender</th>\n",
              "      <th>Age</th>\n",
              "      <th>Marital_Status</th>\n",
              "      <th>Website_Activity</th>\n",
              "      <th>Browsed_Electronics_12Mo</th>\n",
              "      <th>Bought_Electronics_12Mo</th>\n",
              "      <th>Bought_Digital_Media_18Mo</th>\n",
              "      <th>Bought_Digital_Books</th>\n",
              "      <th>Payment_Method</th>\n",
              "      <th>Decision Tree(pred)</th>\n",
              "    </tr>\n",
              "  </thead>\n",
              "  <tbody>\n",
              "    <tr>\n",
              "      <th>0</th>\n",
              "      <td>M</td>\n",
              "      <td>57</td>\n",
              "      <td>S</td>\n",
              "      <td>Regular</td>\n",
              "      <td>Yes</td>\n",
              "      <td>Yes</td>\n",
              "      <td>Yes</td>\n",
              "      <td>Yes</td>\n",
              "      <td>Bank Transfer</td>\n",
              "      <td>2</td>\n",
              "    </tr>\n",
              "    <tr>\n",
              "      <th>1</th>\n",
              "      <td>F</td>\n",
              "      <td>51</td>\n",
              "      <td>M</td>\n",
              "      <td>Regular</td>\n",
              "      <td>Yes</td>\n",
              "      <td>Yes</td>\n",
              "      <td>No</td>\n",
              "      <td>No</td>\n",
              "      <td>Bank Transfer</td>\n",
              "      <td>0</td>\n",
              "    </tr>\n",
              "    <tr>\n",
              "      <th>2</th>\n",
              "      <td>M</td>\n",
              "      <td>41</td>\n",
              "      <td>M</td>\n",
              "      <td>Seldom</td>\n",
              "      <td>Yes</td>\n",
              "      <td>Yes</td>\n",
              "      <td>Yes</td>\n",
              "      <td>No</td>\n",
              "      <td>Website Account</td>\n",
              "      <td>3</td>\n",
              "    </tr>\n",
              "    <tr>\n",
              "      <th>3</th>\n",
              "      <td>M</td>\n",
              "      <td>66</td>\n",
              "      <td>S</td>\n",
              "      <td>Regular</td>\n",
              "      <td>Yes</td>\n",
              "      <td>Yes</td>\n",
              "      <td>Yes</td>\n",
              "      <td>Yes</td>\n",
              "      <td>Credit Card</td>\n",
              "      <td>1</td>\n",
              "    </tr>\n",
              "    <tr>\n",
              "      <th>4</th>\n",
              "      <td>F</td>\n",
              "      <td>31</td>\n",
              "      <td>S</td>\n",
              "      <td>Seldom</td>\n",
              "      <td>Yes</td>\n",
              "      <td>No</td>\n",
              "      <td>Yes</td>\n",
              "      <td>No</td>\n",
              "      <td>Website Account</td>\n",
              "      <td>3</td>\n",
              "    </tr>\n",
              "    <tr>\n",
              "      <th>...</th>\n",
              "      <td>...</td>\n",
              "      <td>...</td>\n",
              "      <td>...</td>\n",
              "      <td>...</td>\n",
              "      <td>...</td>\n",
              "      <td>...</td>\n",
              "      <td>...</td>\n",
              "      <td>...</td>\n",
              "      <td>...</td>\n",
              "      <td>...</td>\n",
              "    </tr>\n",
              "    <tr>\n",
              "      <th>468</th>\n",
              "      <td>M</td>\n",
              "      <td>60</td>\n",
              "      <td>S</td>\n",
              "      <td>Seldom</td>\n",
              "      <td>Yes</td>\n",
              "      <td>No</td>\n",
              "      <td>Yes</td>\n",
              "      <td>Yes</td>\n",
              "      <td>Bank Transfer</td>\n",
              "      <td>0</td>\n",
              "    </tr>\n",
              "    <tr>\n",
              "      <th>469</th>\n",
              "      <td>F</td>\n",
              "      <td>24</td>\n",
              "      <td>S</td>\n",
              "      <td>Seldom</td>\n",
              "      <td>Yes</td>\n",
              "      <td>No</td>\n",
              "      <td>No</td>\n",
              "      <td>No</td>\n",
              "      <td>Credit Card</td>\n",
              "      <td>3</td>\n",
              "    </tr>\n",
              "    <tr>\n",
              "      <th>470</th>\n",
              "      <td>M</td>\n",
              "      <td>23</td>\n",
              "      <td>M</td>\n",
              "      <td>Regular</td>\n",
              "      <td>Yes</td>\n",
              "      <td>Yes</td>\n",
              "      <td>Yes</td>\n",
              "      <td>Yes</td>\n",
              "      <td>Website Account</td>\n",
              "      <td>2</td>\n",
              "    </tr>\n",
              "    <tr>\n",
              "      <th>471</th>\n",
              "      <td>F</td>\n",
              "      <td>36</td>\n",
              "      <td>S</td>\n",
              "      <td>Seldom</td>\n",
              "      <td>Yes</td>\n",
              "      <td>No</td>\n",
              "      <td>Yes</td>\n",
              "      <td>No</td>\n",
              "      <td>Bank Transfer</td>\n",
              "      <td>3</td>\n",
              "    </tr>\n",
              "    <tr>\n",
              "      <th>472</th>\n",
              "      <td>M</td>\n",
              "      <td>46</td>\n",
              "      <td>S</td>\n",
              "      <td>Seldom</td>\n",
              "      <td>Yes</td>\n",
              "      <td>Yes</td>\n",
              "      <td>Yes</td>\n",
              "      <td>Yes</td>\n",
              "      <td>Bank Transfer</td>\n",
              "      <td>0</td>\n",
              "    </tr>\n",
              "  </tbody>\n",
              "</table>\n",
              "<p>473 rows × 10 columns</p>\n",
              "</div>\n",
              "      <button class=\"colab-df-convert\" onclick=\"convertToInteractive('df-a6c8944c-b3e7-45f8-8dd6-538e08fe81af')\"\n",
              "              title=\"Convert this dataframe to an interactive table.\"\n",
              "              style=\"display:none;\">\n",
              "        \n",
              "  <svg xmlns=\"http://www.w3.org/2000/svg\" height=\"24px\"viewBox=\"0 0 24 24\"\n",
              "       width=\"24px\">\n",
              "    <path d=\"M0 0h24v24H0V0z\" fill=\"none\"/>\n",
              "    <path d=\"M18.56 5.44l.94 2.06.94-2.06 2.06-.94-2.06-.94-.94-2.06-.94 2.06-2.06.94zm-11 1L8.5 8.5l.94-2.06 2.06-.94-2.06-.94L8.5 2.5l-.94 2.06-2.06.94zm10 10l.94 2.06.94-2.06 2.06-.94-2.06-.94-.94-2.06-.94 2.06-2.06.94z\"/><path d=\"M17.41 7.96l-1.37-1.37c-.4-.4-.92-.59-1.43-.59-.52 0-1.04.2-1.43.59L10.3 9.45l-7.72 7.72c-.78.78-.78 2.05 0 2.83L4 21.41c.39.39.9.59 1.41.59.51 0 1.02-.2 1.41-.59l7.78-7.78 2.81-2.81c.8-.78.8-2.07 0-2.86zM5.41 20L4 18.59l7.72-7.72 1.47 1.35L5.41 20z\"/>\n",
              "  </svg>\n",
              "      </button>\n",
              "      \n",
              "  <style>\n",
              "    .colab-df-container {\n",
              "      display:flex;\n",
              "      flex-wrap:wrap;\n",
              "      gap: 12px;\n",
              "    }\n",
              "\n",
              "    .colab-df-convert {\n",
              "      background-color: #E8F0FE;\n",
              "      border: none;\n",
              "      border-radius: 50%;\n",
              "      cursor: pointer;\n",
              "      display: none;\n",
              "      fill: #1967D2;\n",
              "      height: 32px;\n",
              "      padding: 0 0 0 0;\n",
              "      width: 32px;\n",
              "    }\n",
              "\n",
              "    .colab-df-convert:hover {\n",
              "      background-color: #E2EBFA;\n",
              "      box-shadow: 0px 1px 2px rgba(60, 64, 67, 0.3), 0px 1px 3px 1px rgba(60, 64, 67, 0.15);\n",
              "      fill: #174EA6;\n",
              "    }\n",
              "\n",
              "    [theme=dark] .colab-df-convert {\n",
              "      background-color: #3B4455;\n",
              "      fill: #D2E3FC;\n",
              "    }\n",
              "\n",
              "    [theme=dark] .colab-df-convert:hover {\n",
              "      background-color: #434B5C;\n",
              "      box-shadow: 0px 1px 3px 1px rgba(0, 0, 0, 0.15);\n",
              "      filter: drop-shadow(0px 1px 2px rgba(0, 0, 0, 0.3));\n",
              "      fill: #FFFFFF;\n",
              "    }\n",
              "  </style>\n",
              "\n",
              "      <script>\n",
              "        const buttonEl =\n",
              "          document.querySelector('#df-a6c8944c-b3e7-45f8-8dd6-538e08fe81af button.colab-df-convert');\n",
              "        buttonEl.style.display =\n",
              "          google.colab.kernel.accessAllowed ? 'block' : 'none';\n",
              "\n",
              "        async function convertToInteractive(key) {\n",
              "          const element = document.querySelector('#df-a6c8944c-b3e7-45f8-8dd6-538e08fe81af');\n",
              "          const dataTable =\n",
              "            await google.colab.kernel.invokeFunction('convertToInteractive',\n",
              "                                                     [key], {});\n",
              "          if (!dataTable) return;\n",
              "\n",
              "          const docLinkHtml = 'Like what you see? Visit the ' +\n",
              "            '<a target=\"_blank\" href=https://colab.research.google.com/notebooks/data_table.ipynb>data table notebook</a>'\n",
              "            + ' to learn more about interactive tables.';\n",
              "          element.innerHTML = '';\n",
              "          dataTable['output_type'] = 'display_data';\n",
              "          await google.colab.output.renderOutput(dataTable, element);\n",
              "          const docLink = document.createElement('div');\n",
              "          docLink.innerHTML = docLinkHtml;\n",
              "          element.appendChild(docLink);\n",
              "        }\n",
              "      </script>\n",
              "    </div>\n",
              "  </div>\n",
              "  "
            ]
          },
          "metadata": {},
          "execution_count": 60
        }
      ],
      "source": [
        "prediction = pd.concat([data_test, df_predict], axis=1)\n",
        "prediction"
      ]
    },
    {
      "cell_type": "markdown",
      "metadata": {
        "id": "LMdwjs7KuoFW"
      },
      "source": [
        "Kita telah melihat bahwa model yang kita buat telah berhasil melakukan kalsifikasi terhadap data baru."
      ]
    }
  ],
  "metadata": {
    "interpreter": {
      "hash": "16f6a18b95dcc4608cbbf2ad3c29c4a0f9bbd76db4ffc5d00a28ce35a13abf4c"
    },
    "kernelspec": {
      "display_name": "Python 3.9.7 ('base')",
      "language": "python",
      "name": "python3"
    },
    "language_info": {
      "codemirror_mode": {
        "name": "ipython",
        "version": 3
      },
      "file_extension": ".py",
      "mimetype": "text/x-python",
      "name": "python",
      "nbconvert_exporter": "python",
      "pygments_lexer": "ipython3",
      "version": "3.9.7"
    },
    "orig_nbformat": 4,
    "colab": {
      "name": "UAS-DataMining(Proyek Bersama).ipynb",
      "provenance": [],
      "collapsed_sections": []
    }
  },
  "nbformat": 4,
  "nbformat_minor": 0
}